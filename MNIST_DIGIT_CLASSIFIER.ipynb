{
  "nbformat": 4,
  "nbformat_minor": 0,
  "metadata": {
    "colab": {
      "provenance": [],
      "collapsed_sections": [
        "XxeyelGk_Tp4",
        "JL8GMQz2R90b",
        "HruLQ2fqS3f2",
        "PwEj36wcbsXF",
        "u5DMnZp1bxAU",
        "szLxFVyIytsv",
        "yZBPiGLXYGUM",
        "RaTcM_Gk_jco",
        "ajqy56PT_pHr",
        "n8iGAu5OAO5Y",
        "Nw7DXcLYfZzp",
        "pjps75cBuR1Z",
        "mBnxm6kkzUYm",
        "AFbx6XHI0KyQ",
        "jX8DXi1jiFYS",
        "X6UHyrSERqid",
        "hQTkURqTLcAy",
        "LFY6t7nLLukS",
        "OFeLvye1L3uN",
        "SEc5Uh-UMIOm"
      ]
    },
    "kernelspec": {
      "name": "python3",
      "display_name": "Python 3"
    },
    "accelerator": "TPU"
  },
  "cells": [
    {
      "cell_type": "markdown",
      "metadata": {
        "id": "XxeyelGk_Tp4"
      },
      "source": [
        "# Classifying Handwritten digits using Tensorflow 2.x"
      ]
    },
    {
      "cell_type": "markdown",
      "metadata": {
        "id": "JL8GMQz2R90b"
      },
      "source": [
        "##Problem Statement"
      ]
    },
    {
      "cell_type": "markdown",
      "metadata": {
        "id": "PwEj36wcbsXF"
      },
      "source": [
        "####**Dataset Description**"
      ]
    },
    {
      "cell_type": "markdown",
      "metadata": {
        "id": "bbg_FbbPU2fe"
      },
      "source": [
        "\n",
        "The **[MNIST Handwritten Digit Classification Dataset](http://yann.lecun.com/exdb/mnist/)** consists of 60,000 training images and 10,000 testing images of handwritten digits.\n",
        "\n",
        "Each image is 28 pixels in height and 28 pixels in width, for a total of 784 pixels in total. Each pixel has a single pixel-value associated with it, indicating the lightness or darkness of that pixel, with higher numbers meaning darker. This pixel-value is an integer between 0 and 255, inclusive.\n",
        "\n",
        "![alt text](https://i.imgur.com/Su00XUA.png)\n",
        "\n"
      ]
    },
    {
      "cell_type": "code",
      "source": [],
      "metadata": {
        "id": "bvm4iW3cIjVH"
      },
      "execution_count": null,
      "outputs": []
    },
    {
      "cell_type": "markdown",
      "metadata": {
        "id": "szLxFVyIytsv"
      },
      "source": [
        "# Solution: Classifying Handwritten digits using Tensorflow 2.x"
      ]
    },
    {
      "cell_type": "markdown",
      "metadata": {
        "id": "yZBPiGLXYGUM"
      },
      "source": [
        "##Installing TensorFlow 2.x"
      ]
    },
    {
      "cell_type": "code",
      "metadata": {
        "id": "qSt1IGYaYe_y"
      },
      "source": [
        "# !pip install tensorflow"
      ],
      "execution_count": null,
      "outputs": []
    },
    {
      "cell_type": "code",
      "metadata": {
        "id": "knttI4ECLnHE",
        "outputId": "2745e216-cbce-46bd-d43a-8570ff40df14",
        "colab": {
          "base_uri": "https://localhost:8080/"
        }
      },
      "source": [
        "#verify the installation\n",
        "import tensorflow as tf\n",
        "from tensorflow import keras\n",
        "\n",
        "#Check tf.keras version\n",
        "print(tf.__version__)\n"
      ],
      "execution_count": null,
      "outputs": [
        {
          "output_type": "stream",
          "name": "stdout",
          "text": [
            "2.15.0\n"
          ]
        }
      ]
    },
    {
      "cell_type": "markdown",
      "metadata": {
        "id": "RaTcM_Gk_jco"
      },
      "source": [
        "##Preparing the Data"
      ]
    },
    {
      "cell_type": "markdown",
      "metadata": {
        "id": "M0UnlNytbPmC"
      },
      "source": [
        "###Loading the Data"
      ]
    },
    {
      "cell_type": "markdown",
      "metadata": {
        "id": "peAAgeflZwcH"
      },
      "source": [
        "Load and prepare the [MNIST dataset](http://yann.lecun.com/exdb/mnist/) and convert the samples from integers to floating-point numbers and deal with categorical data:"
      ]
    },
    {
      "cell_type": "code",
      "metadata": {
        "id": "c8-PSPuqLn_K"
      },
      "source": [
        "# Loading MNIST dataset\n",
        "mnist = keras.datasets.mnist\n",
        "(X_train, Y_train), (X_test, Y_test) = mnist.load_data()"
      ],
      "execution_count": null,
      "outputs": []
    },
    {
      "cell_type": "code",
      "metadata": {
        "id": "t_v4WkSBLrJH",
        "colab": {
          "base_uri": "https://localhost:8080/"
        },
        "outputId": "86bb4733-20f4-46fb-b1a7-2e51925b8079"
      },
      "source": [
        "# Data Exploration\n",
        "print(X_train.shape)\n",
        "print(X_test.shape)"
      ],
      "execution_count": null,
      "outputs": [
        {
          "output_type": "stream",
          "name": "stdout",
          "text": [
            "(60000, 28, 28)\n",
            "(10000, 28, 28)\n"
          ]
        }
      ]
    },
    {
      "cell_type": "markdown",
      "metadata": {
        "id": "WQR_cGsYaWVD"
      },
      "source": [
        "###Data Preprocessing"
      ]
    },
    {
      "cell_type": "code",
      "metadata": {
        "id": "eH99QHr5Pyz0"
      },
      "source": [
        "X_train = X_train.astype('float32')\n",
        "X_test = X_test.astype('float32')"
      ],
      "execution_count": null,
      "outputs": []
    },
    {
      "cell_type": "code",
      "metadata": {
        "id": "5uAo7yDtRhbG",
        "colab": {
          "base_uri": "https://localhost:8080/"
        },
        "outputId": "e2476e91-6909-4c1e-fd30-d21122f5a2a0"
      },
      "source": [
        "# X_train is 60000 rows of 28x28 values; we reshape it to # 60000 x 784.\n",
        "RESHAPED = 784 # 28x28 = 784 neurons\n",
        "X_train = X_train.reshape(60000, RESHAPED)\n",
        "X_test = X_test.reshape(10000, RESHAPED)\n",
        "\n",
        "# Data is converted into float32 to use 32-bit precision # when training a neural network\n",
        "X_train = X_train.astype('float32')\n",
        "X_test = X_test.astype('float32')\n",
        "\n",
        "# Normalizing the input to be within the range [0,1]\n",
        "X_train /= 255\n",
        "X_test /= 255\n",
        "\n",
        "print(X_train.shape, 'train samples')\n",
        "print(X_test.shape, 'test samples')\n",
        "\n",
        "# One-hot representation of the labels.\n",
        "Y_train = tf.keras.utils.to_categorical(Y_train, 10)\n",
        "Y_test = tf.keras.utils.to_categorical(Y_test, 10)\n"
      ],
      "execution_count": null,
      "outputs": [
        {
          "output_type": "stream",
          "name": "stdout",
          "text": [
            "(60000, 784) train samples\n",
            "(10000, 784) test samples\n"
          ]
        }
      ]
    },
    {
      "cell_type": "markdown",
      "metadata": {
        "id": "8g6qsSi21x97"
      },
      "source": [
        "## Designing the Model"
      ]
    },
    {
      "cell_type": "markdown",
      "metadata": {
        "id": "ajqy56PT_pHr"
      },
      "source": [
        "###Preparing the Model 0: Single layer Perceptron"
      ]
    },
    {
      "cell_type": "markdown",
      "metadata": {
        "id": "wncYBuNkaCFf"
      },
      "source": [
        "Build the `Sequential` model with 0 hidden layers. Choose an optimizer and loss function for training:"
      ]
    },
    {
      "cell_type": "code",
      "metadata": {
        "id": "2Q5jFOQUM-c0"
      },
      "source": [
        "import tensorflow as tf\n",
        "from tensorflow.keras.layers import Dense\n",
        "from tensorflow.keras import Sequential\n",
        "model_0 = Sequential()\n"
      ],
      "execution_count": null,
      "outputs": []
    },
    {
      "cell_type": "code",
      "source": [
        "# Now the model will take as input arrays of shape (*, 784)# and output arrays of shape (*, 10)\n",
        "model_0.add(Dense(10,input_shape=(784,),name='dense_layer', activation='softmax'))"
      ],
      "metadata": {
        "id": "UqdDW5NLm_Q4"
      },
      "execution_count": null,
      "outputs": []
    },
    {
      "cell_type": "code",
      "metadata": {
        "id": "ocCzyD2SWC9I"
      },
      "source": [
        "# Compiling the model.\n",
        "model_0.compile(optimizer='SGD',\n",
        "              loss='categorical_crossentropy',\n",
        "              metrics=['accuracy'])"
      ],
      "execution_count": null,
      "outputs": []
    },
    {
      "cell_type": "code",
      "metadata": {
        "id": "fvAt9Atl-cnx",
        "colab": {
          "base_uri": "https://localhost:8080/"
        },
        "outputId": "549ea48e-6551-456d-8704-3a8f45589ebe"
      },
      "source": [
        "# Training the model.\n",
        "training = model_0.fit(X_train, Y_train, batch_size=64, epochs=70, validation_split=0.2)"
      ],
      "execution_count": null,
      "outputs": [
        {
          "output_type": "stream",
          "name": "stdout",
          "text": [
            "Epoch 1/70\n",
            "750/750 [==============================] - 3s 3ms/step - loss: 1.1046 - accuracy: 0.7432 - val_loss: 0.6583 - val_accuracy: 0.8558\n",
            "Epoch 2/70\n",
            "750/750 [==============================] - 1s 2ms/step - loss: 0.6073 - accuracy: 0.8564 - val_loss: 0.5082 - val_accuracy: 0.8767\n",
            "Epoch 3/70\n",
            "750/750 [==============================] - 1s 2ms/step - loss: 0.5118 - accuracy: 0.8715 - val_loss: 0.4500 - val_accuracy: 0.8858\n",
            "Epoch 4/70\n",
            "750/750 [==============================] - 1s 2ms/step - loss: 0.4657 - accuracy: 0.8793 - val_loss: 0.4182 - val_accuracy: 0.8923\n",
            "Epoch 5/70\n",
            "750/750 [==============================] - 1s 2ms/step - loss: 0.4374 - accuracy: 0.8838 - val_loss: 0.3968 - val_accuracy: 0.8962\n",
            "Epoch 6/70\n",
            "750/750 [==============================] - 1s 2ms/step - loss: 0.4177 - accuracy: 0.8881 - val_loss: 0.3817 - val_accuracy: 0.8992\n",
            "Epoch 7/70\n",
            "750/750 [==============================] - 1s 2ms/step - loss: 0.4029 - accuracy: 0.8912 - val_loss: 0.3705 - val_accuracy: 0.9022\n",
            "Epoch 8/70\n",
            "750/750 [==============================] - 2s 2ms/step - loss: 0.3914 - accuracy: 0.8936 - val_loss: 0.3613 - val_accuracy: 0.9035\n",
            "Epoch 9/70\n",
            "750/750 [==============================] - 2s 3ms/step - loss: 0.3819 - accuracy: 0.8954 - val_loss: 0.3540 - val_accuracy: 0.9039\n",
            "Epoch 10/70\n",
            "750/750 [==============================] - 2s 2ms/step - loss: 0.3740 - accuracy: 0.8971 - val_loss: 0.3480 - val_accuracy: 0.9059\n",
            "Epoch 11/70\n",
            "750/750 [==============================] - 1s 2ms/step - loss: 0.3673 - accuracy: 0.8990 - val_loss: 0.3426 - val_accuracy: 0.9070\n",
            "Epoch 12/70\n",
            "750/750 [==============================] - 1s 2ms/step - loss: 0.3616 - accuracy: 0.9001 - val_loss: 0.3381 - val_accuracy: 0.9075\n",
            "Epoch 13/70\n",
            "750/750 [==============================] - 1s 2ms/step - loss: 0.3565 - accuracy: 0.9013 - val_loss: 0.3342 - val_accuracy: 0.9091\n",
            "Epoch 14/70\n",
            "750/750 [==============================] - 1s 2ms/step - loss: 0.3519 - accuracy: 0.9026 - val_loss: 0.3306 - val_accuracy: 0.9095\n",
            "Epoch 15/70\n",
            "750/750 [==============================] - 1s 2ms/step - loss: 0.3479 - accuracy: 0.9030 - val_loss: 0.3274 - val_accuracy: 0.9110\n",
            "Epoch 16/70\n",
            "750/750 [==============================] - 1s 2ms/step - loss: 0.3443 - accuracy: 0.9044 - val_loss: 0.3245 - val_accuracy: 0.9103\n",
            "Epoch 17/70\n",
            "750/750 [==============================] - 2s 3ms/step - loss: 0.3410 - accuracy: 0.9050 - val_loss: 0.3218 - val_accuracy: 0.9123\n",
            "Epoch 18/70\n",
            "750/750 [==============================] - 2s 2ms/step - loss: 0.3379 - accuracy: 0.9059 - val_loss: 0.3195 - val_accuracy: 0.9133\n",
            "Epoch 19/70\n",
            "750/750 [==============================] - 1s 2ms/step - loss: 0.3352 - accuracy: 0.9065 - val_loss: 0.3174 - val_accuracy: 0.9136\n",
            "Epoch 20/70\n",
            "750/750 [==============================] - 1s 2ms/step - loss: 0.3324 - accuracy: 0.9072 - val_loss: 0.3153 - val_accuracy: 0.9133\n",
            "Epoch 21/70\n",
            "750/750 [==============================] - 1s 2ms/step - loss: 0.3301 - accuracy: 0.9080 - val_loss: 0.3133 - val_accuracy: 0.9136\n",
            "Epoch 22/70\n",
            "750/750 [==============================] - 1s 2ms/step - loss: 0.3279 - accuracy: 0.9085 - val_loss: 0.3116 - val_accuracy: 0.9135\n",
            "Epoch 23/70\n",
            "750/750 [==============================] - 1s 2ms/step - loss: 0.3258 - accuracy: 0.9096 - val_loss: 0.3101 - val_accuracy: 0.9151\n",
            "Epoch 24/70\n",
            "750/750 [==============================] - 1s 2ms/step - loss: 0.3240 - accuracy: 0.9099 - val_loss: 0.3087 - val_accuracy: 0.9148\n",
            "Epoch 25/70\n",
            "750/750 [==============================] - 2s 3ms/step - loss: 0.3221 - accuracy: 0.9102 - val_loss: 0.3073 - val_accuracy: 0.9143\n",
            "Epoch 26/70\n",
            "750/750 [==============================] - 2s 2ms/step - loss: 0.3204 - accuracy: 0.9107 - val_loss: 0.3060 - val_accuracy: 0.9148\n",
            "Epoch 27/70\n",
            "750/750 [==============================] - 1s 2ms/step - loss: 0.3187 - accuracy: 0.9113 - val_loss: 0.3048 - val_accuracy: 0.9152\n",
            "Epoch 28/70\n",
            "750/750 [==============================] - 1s 2ms/step - loss: 0.3172 - accuracy: 0.9117 - val_loss: 0.3035 - val_accuracy: 0.9148\n",
            "Epoch 29/70\n",
            "750/750 [==============================] - 1s 2ms/step - loss: 0.3157 - accuracy: 0.9122 - val_loss: 0.3026 - val_accuracy: 0.9147\n",
            "Epoch 30/70\n",
            "750/750 [==============================] - 1s 2ms/step - loss: 0.3144 - accuracy: 0.9128 - val_loss: 0.3014 - val_accuracy: 0.9151\n",
            "Epoch 31/70\n",
            "750/750 [==============================] - 1s 2ms/step - loss: 0.3130 - accuracy: 0.9130 - val_loss: 0.3005 - val_accuracy: 0.9151\n",
            "Epoch 32/70\n",
            "750/750 [==============================] - 1s 2ms/step - loss: 0.3117 - accuracy: 0.9134 - val_loss: 0.2995 - val_accuracy: 0.9158\n",
            "Epoch 33/70\n",
            "750/750 [==============================] - 2s 3ms/step - loss: 0.3106 - accuracy: 0.9138 - val_loss: 0.2984 - val_accuracy: 0.9158\n",
            "Epoch 34/70\n",
            "750/750 [==============================] - 2s 2ms/step - loss: 0.3094 - accuracy: 0.9146 - val_loss: 0.2979 - val_accuracy: 0.9156\n",
            "Epoch 35/70\n",
            "750/750 [==============================] - 1s 2ms/step - loss: 0.3083 - accuracy: 0.9146 - val_loss: 0.2968 - val_accuracy: 0.9166\n",
            "Epoch 36/70\n",
            "750/750 [==============================] - 1s 2ms/step - loss: 0.3072 - accuracy: 0.9149 - val_loss: 0.2962 - val_accuracy: 0.9167\n",
            "Epoch 37/70\n",
            "750/750 [==============================] - 1s 2ms/step - loss: 0.3062 - accuracy: 0.9151 - val_loss: 0.2954 - val_accuracy: 0.9175\n",
            "Epoch 38/70\n",
            "750/750 [==============================] - 1s 2ms/step - loss: 0.3052 - accuracy: 0.9155 - val_loss: 0.2950 - val_accuracy: 0.9170\n",
            "Epoch 39/70\n",
            "750/750 [==============================] - 1s 2ms/step - loss: 0.3044 - accuracy: 0.9153 - val_loss: 0.2940 - val_accuracy: 0.9178\n",
            "Epoch 40/70\n",
            "750/750 [==============================] - 1s 2ms/step - loss: 0.3034 - accuracy: 0.9160 - val_loss: 0.2933 - val_accuracy: 0.9178\n",
            "Epoch 41/70\n",
            "750/750 [==============================] - 2s 2ms/step - loss: 0.3026 - accuracy: 0.9158 - val_loss: 0.2927 - val_accuracy: 0.9181\n",
            "Epoch 42/70\n",
            "750/750 [==============================] - 2s 3ms/step - loss: 0.3017 - accuracy: 0.9167 - val_loss: 0.2921 - val_accuracy: 0.9182\n",
            "Epoch 43/70\n",
            "750/750 [==============================] - 1s 2ms/step - loss: 0.3009 - accuracy: 0.9164 - val_loss: 0.2917 - val_accuracy: 0.9184\n",
            "Epoch 44/70\n",
            "750/750 [==============================] - 1s 2ms/step - loss: 0.3001 - accuracy: 0.9161 - val_loss: 0.2909 - val_accuracy: 0.9193\n",
            "Epoch 45/70\n",
            "750/750 [==============================] - 1s 2ms/step - loss: 0.2994 - accuracy: 0.9170 - val_loss: 0.2903 - val_accuracy: 0.9188\n",
            "Epoch 46/70\n",
            "750/750 [==============================] - 1s 2ms/step - loss: 0.2987 - accuracy: 0.9172 - val_loss: 0.2898 - val_accuracy: 0.9194\n",
            "Epoch 47/70\n",
            "750/750 [==============================] - 1s 2ms/step - loss: 0.2979 - accuracy: 0.9173 - val_loss: 0.2896 - val_accuracy: 0.9194\n",
            "Epoch 48/70\n",
            "750/750 [==============================] - 1s 2ms/step - loss: 0.2972 - accuracy: 0.9176 - val_loss: 0.2890 - val_accuracy: 0.9196\n",
            "Epoch 49/70\n",
            "750/750 [==============================] - 2s 3ms/step - loss: 0.2965 - accuracy: 0.9176 - val_loss: 0.2884 - val_accuracy: 0.9202\n",
            "Epoch 50/70\n",
            "750/750 [==============================] - 2s 3ms/step - loss: 0.2959 - accuracy: 0.9180 - val_loss: 0.2881 - val_accuracy: 0.9200\n",
            "Epoch 51/70\n",
            "750/750 [==============================] - 1s 2ms/step - loss: 0.2952 - accuracy: 0.9179 - val_loss: 0.2874 - val_accuracy: 0.9198\n",
            "Epoch 52/70\n",
            "750/750 [==============================] - 1s 2ms/step - loss: 0.2946 - accuracy: 0.9178 - val_loss: 0.2872 - val_accuracy: 0.9203\n",
            "Epoch 53/70\n",
            "750/750 [==============================] - 1s 2ms/step - loss: 0.2940 - accuracy: 0.9184 - val_loss: 0.2868 - val_accuracy: 0.9200\n",
            "Epoch 54/70\n",
            "750/750 [==============================] - 1s 2ms/step - loss: 0.2934 - accuracy: 0.9185 - val_loss: 0.2864 - val_accuracy: 0.9202\n",
            "Epoch 55/70\n",
            "750/750 [==============================] - 1s 2ms/step - loss: 0.2929 - accuracy: 0.9185 - val_loss: 0.2858 - val_accuracy: 0.9204\n",
            "Epoch 56/70\n",
            "750/750 [==============================] - 1s 2ms/step - loss: 0.2923 - accuracy: 0.9185 - val_loss: 0.2855 - val_accuracy: 0.9207\n",
            "Epoch 57/70\n",
            "750/750 [==============================] - 2s 2ms/step - loss: 0.2918 - accuracy: 0.9187 - val_loss: 0.2851 - val_accuracy: 0.9212\n",
            "Epoch 58/70\n",
            "750/750 [==============================] - 2s 3ms/step - loss: 0.2913 - accuracy: 0.9191 - val_loss: 0.2848 - val_accuracy: 0.9202\n",
            "Epoch 59/70\n",
            "750/750 [==============================] - 1s 2ms/step - loss: 0.2908 - accuracy: 0.9190 - val_loss: 0.2845 - val_accuracy: 0.9203\n",
            "Epoch 60/70\n",
            "750/750 [==============================] - 1s 2ms/step - loss: 0.2902 - accuracy: 0.9191 - val_loss: 0.2842 - val_accuracy: 0.9208\n",
            "Epoch 61/70\n",
            "750/750 [==============================] - 1s 2ms/step - loss: 0.2898 - accuracy: 0.9195 - val_loss: 0.2837 - val_accuracy: 0.9217\n",
            "Epoch 62/70\n",
            "750/750 [==============================] - 1s 2ms/step - loss: 0.2893 - accuracy: 0.9194 - val_loss: 0.2835 - val_accuracy: 0.9212\n",
            "Epoch 63/70\n",
            "750/750 [==============================] - 1s 2ms/step - loss: 0.2888 - accuracy: 0.9196 - val_loss: 0.2833 - val_accuracy: 0.9212\n",
            "Epoch 64/70\n",
            "750/750 [==============================] - 1s 2ms/step - loss: 0.2884 - accuracy: 0.9197 - val_loss: 0.2827 - val_accuracy: 0.9214\n",
            "Epoch 65/70\n",
            "750/750 [==============================] - 2s 2ms/step - loss: 0.2879 - accuracy: 0.9202 - val_loss: 0.2827 - val_accuracy: 0.9214\n",
            "Epoch 66/70\n",
            "750/750 [==============================] - 2s 3ms/step - loss: 0.2875 - accuracy: 0.9203 - val_loss: 0.2823 - val_accuracy: 0.9215\n",
            "Epoch 67/70\n",
            "750/750 [==============================] - 1s 2ms/step - loss: 0.2870 - accuracy: 0.9201 - val_loss: 0.2822 - val_accuracy: 0.9214\n",
            "Epoch 68/70\n",
            "750/750 [==============================] - 1s 2ms/step - loss: 0.2866 - accuracy: 0.9202 - val_loss: 0.2816 - val_accuracy: 0.9215\n",
            "Epoch 69/70\n",
            "750/750 [==============================] - 1s 2ms/step - loss: 0.2863 - accuracy: 0.9207 - val_loss: 0.2814 - val_accuracy: 0.9218\n",
            "Epoch 70/70\n",
            "750/750 [==============================] - 1s 2ms/step - loss: 0.2858 - accuracy: 0.9203 - val_loss: 0.2811 - val_accuracy: 0.9217\n"
          ]
        }
      ]
    },
    {
      "cell_type": "code",
      "source": [
        "import matplotlib.pyplot as plt\n",
        "%matplotlib inline\n",
        "# list all data in training\n",
        "print(training.history.keys())"
      ],
      "metadata": {
        "colab": {
          "base_uri": "https://localhost:8080/"
        },
        "id": "V-FcGw8doJlE",
        "outputId": "3f0e4ac3-46a5-4a03-a472-1e66f023912c"
      },
      "execution_count": null,
      "outputs": [
        {
          "output_type": "stream",
          "name": "stdout",
          "text": [
            "dict_keys(['loss', 'accuracy', 'val_loss', 'val_accuracy'])\n"
          ]
        }
      ]
    },
    {
      "cell_type": "code",
      "metadata": {
        "id": "hof2yoiDBCab",
        "colab": {
          "base_uri": "https://localhost:8080/",
          "height": 472
        },
        "outputId": "c602ab21-2a85-4e6e-f86d-7857ed175680"
      },
      "source": [
        "\n",
        "# summarize training for accuracy\n",
        "plt.plot(training.history['accuracy'])\n",
        "plt.plot(training.history['val_accuracy'])\n",
        "plt.title('model accuracy')\n",
        "plt.ylabel('accuracy')\n",
        "plt.xlabel('epoch')\n",
        "plt.legend(['train', 'test'], loc='upper left')\n",
        "plt.show()\n"
      ],
      "execution_count": null,
      "outputs": [
        {
          "output_type": "display_data",
          "data": {
            "text/plain": [
              "<Figure size 640x480 with 1 Axes>"
            ],
            "image/png": "[encoded data removed]"
          },
          "metadata": {}
        }
      ]
    },
    {
      "cell_type": "code",
      "source": [
        "# summarize traning for loss\n",
        "plt.plot(training.history['loss'])\n",
        "plt.plot(training.history['val_loss'])\n",
        "plt.title('model loss')\n",
        "plt.ylabel('loss')\n",
        "plt.xlabel('epoch')\n",
        "plt.legend(['train', 'test'], loc='upper left')\n",
        "plt.show()"
      ],
      "metadata": {
        "colab": {
          "base_uri": "https://localhost:8080/",
          "height": 472
        },
        "id": "5l3KuxvvoQOv",
        "outputId": "750df62d-9e71-466e-dde4-6a4a74b94244"
      },
      "execution_count": null,
      "outputs": [
        {
          "output_type": "display_data",
          "data": {
            "text/plain": [
              "<Figure size 640x480 with 1 Axes>"
            ],
            "image/png": "[encoded data removed]"
          },
          "metadata": {}
        }
      ]
    },
    {
      "cell_type": "code",
      "metadata": {
        "id": "SzP_B7w7_1tj",
        "colab": {
          "base_uri": "https://localhost:8080/"
        },
        "outputId": "3a502627-7700-4d19-87c9-149a84f305c5"
      },
      "source": [
        "#evaluate the model\n",
        "test_loss, test_acc = model_0.evaluate(X_test, Y_test)\n",
        "print('Test accuracy:', test_acc)"
      ],
      "execution_count": null,
      "outputs": [
        {
          "output_type": "stream",
          "name": "stdout",
          "text": [
            "313/313 [==============================] - 1s 2ms/step - loss: 0.2830 - accuracy: 0.9216\n",
            "Test accuracy: 0.9215999841690063\n"
          ]
        }
      ]
    },
    {
      "cell_type": "code",
      "metadata": {
        "id": "ZrHaOTYTaukM",
        "colab": {
          "base_uri": "https://localhost:8080/"
        },
        "outputId": "0e1411fe-894b-47d0-b528-57a0b688f107"
      },
      "source": [
        "model_0.summary()"
      ],
      "execution_count": null,
      "outputs": [
        {
          "output_type": "stream",
          "name": "stdout",
          "text": [
            "Model: \"sequential_1\"\n",
            "_________________________________________________________________\n",
            " Layer (type)                Output Shape              Param #   \n",
            "=================================================================\n",
            " dense_layer (Dense)         (None, 10)                7850      \n",
            "                                                                 \n",
            "=================================================================\n",
            "Total params: 7850 (30.66 KB)\n",
            "Trainable params: 7850 (30.66 KB)\n",
            "Non-trainable params: 0 (0.00 Byte)\n",
            "_________________________________________________________________\n"
          ]
        }
      ]
    },
    {
      "cell_type": "markdown",
      "metadata": {
        "id": "n8iGAu5OAO5Y"
      },
      "source": [
        "###Improved Model 1: Adding Hidden Layer - Multi Layer Perceptron"
      ]
    },
    {
      "cell_type": "code",
      "metadata": {
        "id": "VVkZL5uiAhJB"
      },
      "source": [
        "#Most common type of model is a stack of layers\n",
        "model_1 = tf.keras.Sequential()\n",
        "N_hidden = 64\n",
        "# Adds a densely-connected layer with 64 units to the model:\n",
        "model_1.add(Dense(N_hidden, name='dense_layer', input_shape=(784,), activation = 'relu'))\n",
        "\n",
        "model_1.add(Dense(N_hidden, name='dense_layer_2', activation='relu'))\n",
        "\n",
        "model_1.add(Dense(10, name='dense_layer_3', activation = 'softmax'))"
      ],
      "execution_count": null,
      "outputs": []
    },
    {
      "cell_type": "code",
      "metadata": {
        "id": "MiYit8ATfCXw"
      },
      "source": [
        "# Compiling the model.\n",
        "model_1.compile(optimizer='SGD',\n",
        "              loss='categorical_crossentropy',\n",
        "              metrics=['accuracy'])"
      ],
      "execution_count": null,
      "outputs": []
    },
    {
      "cell_type": "code",
      "metadata": {
        "id": "qeWrSoxzfCYE",
        "colab": {
          "base_uri": "https://localhost:8080/"
        },
        "outputId": "25fb5455-4782-43c4-8447-fce32b7d629d"
      },
      "source": [
        "# Training the model.\n",
        "training = model_1.fit(X_train, Y_train, batch_size=64, epochs=100, validation_split=0.2)"
      ],
      "execution_count": null,
      "outputs": [
        {
          "output_type": "stream",
          "name": "stdout",
          "text": [
            "Epoch 1/100\n",
            "750/750 [==============================] - 2s 3ms/step - loss: 1.1157 - accuracy: 0.6983 - val_loss: 0.4952 - val_accuracy: 0.8675\n",
            "Epoch 2/100\n",
            "750/750 [==============================] - 2s 3ms/step - loss: 0.4403 - accuracy: 0.8779 - val_loss: 0.3616 - val_accuracy: 0.8966\n",
            "Epoch 3/100\n",
            "750/750 [==============================] - 2s 3ms/step - loss: 0.3574 - accuracy: 0.8980 - val_loss: 0.3168 - val_accuracy: 0.9077\n",
            "Epoch 4/100\n",
            "750/750 [==============================] - 2s 3ms/step - loss: 0.3183 - accuracy: 0.9083 - val_loss: 0.2896 - val_accuracy: 0.9178\n",
            "Epoch 5/100\n",
            "750/750 [==============================] - 2s 2ms/step - loss: 0.2922 - accuracy: 0.9161 - val_loss: 0.2694 - val_accuracy: 0.9210\n",
            "Epoch 6/100\n",
            "750/750 [==============================] - 2s 2ms/step - loss: 0.2714 - accuracy: 0.9225 - val_loss: 0.2540 - val_accuracy: 0.9264\n",
            "Epoch 7/100\n",
            "750/750 [==============================] - 2s 2ms/step - loss: 0.2543 - accuracy: 0.9270 - val_loss: 0.2387 - val_accuracy: 0.9317\n",
            "Epoch 8/100\n",
            "750/750 [==============================] - 2s 3ms/step - loss: 0.2396 - accuracy: 0.9310 - val_loss: 0.2266 - val_accuracy: 0.9352\n",
            "Epoch 9/100\n",
            "750/750 [==============================] - 3s 3ms/step - loss: 0.2269 - accuracy: 0.9350 - val_loss: 0.2169 - val_accuracy: 0.9386\n",
            "Epoch 10/100\n",
            "750/750 [==============================] - 2s 3ms/step - loss: 0.2152 - accuracy: 0.9385 - val_loss: 0.2099 - val_accuracy: 0.9400\n",
            "Epoch 11/100\n",
            "750/750 [==============================] - 2s 2ms/step - loss: 0.2049 - accuracy: 0.9411 - val_loss: 0.1997 - val_accuracy: 0.9442\n",
            "Epoch 12/100\n",
            "750/750 [==============================] - 2s 2ms/step - loss: 0.1956 - accuracy: 0.9441 - val_loss: 0.1914 - val_accuracy: 0.9463\n",
            "Epoch 13/100\n",
            "750/750 [==============================] - 2s 2ms/step - loss: 0.1869 - accuracy: 0.9465 - val_loss: 0.1862 - val_accuracy: 0.9465\n",
            "Epoch 14/100\n",
            "750/750 [==============================] - 2s 3ms/step - loss: 0.1791 - accuracy: 0.9483 - val_loss: 0.1800 - val_accuracy: 0.9489\n",
            "Epoch 15/100\n",
            "750/750 [==============================] - 3s 3ms/step - loss: 0.1718 - accuracy: 0.9502 - val_loss: 0.1744 - val_accuracy: 0.9500\n",
            "Epoch 16/100\n",
            "750/750 [==============================] - 2s 2ms/step - loss: 0.1653 - accuracy: 0.9526 - val_loss: 0.1697 - val_accuracy: 0.9507\n",
            "Epoch 17/100\n",
            "750/750 [==============================] - 2s 2ms/step - loss: 0.1593 - accuracy: 0.9544 - val_loss: 0.1660 - val_accuracy: 0.9517\n",
            "Epoch 18/100\n",
            "750/750 [==============================] - 2s 2ms/step - loss: 0.1537 - accuracy: 0.9561 - val_loss: 0.1624 - val_accuracy: 0.9533\n",
            "Epoch 19/100\n",
            "750/750 [==============================] - 2s 2ms/step - loss: 0.1485 - accuracy: 0.9576 - val_loss: 0.1573 - val_accuracy: 0.9534\n",
            "Epoch 20/100\n",
            "750/750 [==============================] - 2s 2ms/step - loss: 0.1436 - accuracy: 0.9588 - val_loss: 0.1531 - val_accuracy: 0.9563\n",
            "Epoch 21/100\n",
            "750/750 [==============================] - 3s 4ms/step - loss: 0.1392 - accuracy: 0.9596 - val_loss: 0.1501 - val_accuracy: 0.9563\n",
            "Epoch 22/100\n",
            "750/750 [==============================] - 2s 2ms/step - loss: 0.1347 - accuracy: 0.9611 - val_loss: 0.1473 - val_accuracy: 0.9572\n",
            "Epoch 23/100\n",
            "750/750 [==============================] - 2s 2ms/step - loss: 0.1308 - accuracy: 0.9623 - val_loss: 0.1442 - val_accuracy: 0.9582\n",
            "Epoch 24/100\n",
            "750/750 [==============================] - 2s 2ms/step - loss: 0.1271 - accuracy: 0.9630 - val_loss: 0.1411 - val_accuracy: 0.9589\n",
            "Epoch 25/100\n",
            "750/750 [==============================] - 2s 2ms/step - loss: 0.1234 - accuracy: 0.9645 - val_loss: 0.1402 - val_accuracy: 0.9589\n",
            "Epoch 26/100\n",
            "750/750 [==============================] - 2s 2ms/step - loss: 0.1202 - accuracy: 0.9656 - val_loss: 0.1367 - val_accuracy: 0.9603\n",
            "Epoch 27/100\n",
            "750/750 [==============================] - 3s 4ms/step - loss: 0.1168 - accuracy: 0.9662 - val_loss: 0.1365 - val_accuracy: 0.9607\n",
            "Epoch 28/100\n",
            "750/750 [==============================] - 2s 3ms/step - loss: 0.1138 - accuracy: 0.9671 - val_loss: 0.1326 - val_accuracy: 0.9622\n",
            "Epoch 29/100\n",
            "750/750 [==============================] - 2s 2ms/step - loss: 0.1108 - accuracy: 0.9684 - val_loss: 0.1323 - val_accuracy: 0.9628\n",
            "Epoch 30/100\n",
            "750/750 [==============================] - 2s 2ms/step - loss: 0.1080 - accuracy: 0.9692 - val_loss: 0.1313 - val_accuracy: 0.9620\n",
            "Epoch 31/100\n",
            "750/750 [==============================] - 2s 2ms/step - loss: 0.1052 - accuracy: 0.9694 - val_loss: 0.1283 - val_accuracy: 0.9636\n",
            "Epoch 32/100\n",
            "750/750 [==============================] - 2s 2ms/step - loss: 0.1028 - accuracy: 0.9706 - val_loss: 0.1266 - val_accuracy: 0.9631\n",
            "Epoch 33/100\n",
            "750/750 [==============================] - 3s 4ms/step - loss: 0.1000 - accuracy: 0.9715 - val_loss: 0.1246 - val_accuracy: 0.9636\n",
            "Epoch 34/100\n",
            "750/750 [==============================] - 2s 2ms/step - loss: 0.0980 - accuracy: 0.9719 - val_loss: 0.1244 - val_accuracy: 0.9651\n",
            "Epoch 35/100\n",
            "750/750 [==============================] - 2s 3ms/step - loss: 0.0954 - accuracy: 0.9728 - val_loss: 0.1234 - val_accuracy: 0.9637\n",
            "Epoch 36/100\n",
            "750/750 [==============================] - 2s 3ms/step - loss: 0.0931 - accuracy: 0.9732 - val_loss: 0.1227 - val_accuracy: 0.9646\n",
            "Epoch 37/100\n",
            "750/750 [==============================] - 2s 2ms/step - loss: 0.0913 - accuracy: 0.9739 - val_loss: 0.1204 - val_accuracy: 0.9652\n",
            "Epoch 38/100\n",
            "750/750 [==============================] - 2s 3ms/step - loss: 0.0887 - accuracy: 0.9746 - val_loss: 0.1192 - val_accuracy: 0.9649\n",
            "Epoch 39/100\n",
            "750/750 [==============================] - 3s 4ms/step - loss: 0.0869 - accuracy: 0.9754 - val_loss: 0.1200 - val_accuracy: 0.9648\n",
            "Epoch 40/100\n",
            "750/750 [==============================] - 2s 3ms/step - loss: 0.0849 - accuracy: 0.9757 - val_loss: 0.1166 - val_accuracy: 0.9657\n",
            "Epoch 41/100\n",
            "750/750 [==============================] - 2s 2ms/step - loss: 0.0834 - accuracy: 0.9769 - val_loss: 0.1159 - val_accuracy: 0.9664\n",
            "Epoch 42/100\n",
            "750/750 [==============================] - 2s 3ms/step - loss: 0.0814 - accuracy: 0.9769 - val_loss: 0.1144 - val_accuracy: 0.9665\n",
            "Epoch 43/100\n",
            "750/750 [==============================] - 2s 2ms/step - loss: 0.0795 - accuracy: 0.9771 - val_loss: 0.1152 - val_accuracy: 0.9670\n",
            "Epoch 44/100\n",
            "750/750 [==============================] - 2s 2ms/step - loss: 0.0778 - accuracy: 0.9780 - val_loss: 0.1139 - val_accuracy: 0.9673\n",
            "Epoch 45/100\n",
            "750/750 [==============================] - 3s 4ms/step - loss: 0.0765 - accuracy: 0.9786 - val_loss: 0.1136 - val_accuracy: 0.9672\n",
            "Epoch 46/100\n",
            "750/750 [==============================] - 2s 2ms/step - loss: 0.0747 - accuracy: 0.9792 - val_loss: 0.1113 - val_accuracy: 0.9682\n",
            "Epoch 47/100\n",
            "750/750 [==============================] - 2s 3ms/step - loss: 0.0734 - accuracy: 0.9796 - val_loss: 0.1097 - val_accuracy: 0.9690\n",
            "Epoch 48/100\n",
            "750/750 [==============================] - 2s 2ms/step - loss: 0.0717 - accuracy: 0.9802 - val_loss: 0.1092 - val_accuracy: 0.9688\n",
            "Epoch 49/100\n",
            "750/750 [==============================] - 2s 2ms/step - loss: 0.0704 - accuracy: 0.9801 - val_loss: 0.1095 - val_accuracy: 0.9693\n",
            "Epoch 50/100\n",
            "750/750 [==============================] - 2s 2ms/step - loss: 0.0689 - accuracy: 0.9810 - val_loss: 0.1086 - val_accuracy: 0.9691\n",
            "Epoch 51/100\n",
            "750/750 [==============================] - 3s 4ms/step - loss: 0.0676 - accuracy: 0.9816 - val_loss: 0.1074 - val_accuracy: 0.9690\n",
            "Epoch 52/100\n",
            "750/750 [==============================] - 2s 3ms/step - loss: 0.0664 - accuracy: 0.9816 - val_loss: 0.1075 - val_accuracy: 0.9691\n",
            "Epoch 53/100\n",
            "750/750 [==============================] - 2s 2ms/step - loss: 0.0649 - accuracy: 0.9822 - val_loss: 0.1079 - val_accuracy: 0.9698\n",
            "Epoch 54/100\n",
            "750/750 [==============================] - 2s 2ms/step - loss: 0.0638 - accuracy: 0.9823 - val_loss: 0.1063 - val_accuracy: 0.9693\n",
            "Epoch 55/100\n",
            "750/750 [==============================] - 2s 2ms/step - loss: 0.0624 - accuracy: 0.9830 - val_loss: 0.1066 - val_accuracy: 0.9693\n",
            "Epoch 56/100\n",
            "750/750 [==============================] - 2s 2ms/step - loss: 0.0613 - accuracy: 0.9833 - val_loss: 0.1045 - val_accuracy: 0.9696\n",
            "Epoch 57/100\n",
            "750/750 [==============================] - 2s 3ms/step - loss: 0.0601 - accuracy: 0.9839 - val_loss: 0.1056 - val_accuracy: 0.9694\n",
            "Epoch 58/100\n",
            "750/750 [==============================] - 2s 3ms/step - loss: 0.0589 - accuracy: 0.9841 - val_loss: 0.1040 - val_accuracy: 0.9688\n",
            "Epoch 59/100\n",
            "750/750 [==============================] - 2s 2ms/step - loss: 0.0578 - accuracy: 0.9847 - val_loss: 0.1038 - val_accuracy: 0.9703\n",
            "Epoch 60/100\n",
            "750/750 [==============================] - 2s 2ms/step - loss: 0.0567 - accuracy: 0.9850 - val_loss: 0.1032 - val_accuracy: 0.9711\n",
            "Epoch 61/100\n",
            "750/750 [==============================] - 2s 2ms/step - loss: 0.0556 - accuracy: 0.9849 - val_loss: 0.1025 - val_accuracy: 0.9699\n",
            "Epoch 62/100\n",
            "750/750 [==============================] - 2s 2ms/step - loss: 0.0549 - accuracy: 0.9851 - val_loss: 0.1027 - val_accuracy: 0.9704\n",
            "Epoch 63/100\n",
            "750/750 [==============================] - 2s 3ms/step - loss: 0.0536 - accuracy: 0.9856 - val_loss: 0.1018 - val_accuracy: 0.9716\n",
            "Epoch 64/100\n",
            "750/750 [==============================] - 3s 3ms/step - loss: 0.0528 - accuracy: 0.9858 - val_loss: 0.1014 - val_accuracy: 0.9708\n",
            "Epoch 65/100\n",
            "750/750 [==============================] - 2s 3ms/step - loss: 0.0516 - accuracy: 0.9862 - val_loss: 0.1052 - val_accuracy: 0.9703\n",
            "Epoch 66/100\n",
            "750/750 [==============================] - 2s 2ms/step - loss: 0.0510 - accuracy: 0.9863 - val_loss: 0.1011 - val_accuracy: 0.9712\n",
            "Epoch 67/100\n",
            "750/750 [==============================] - 2s 2ms/step - loss: 0.0500 - accuracy: 0.9869 - val_loss: 0.1006 - val_accuracy: 0.9695\n",
            "Epoch 68/100\n",
            "750/750 [==============================] - 2s 2ms/step - loss: 0.0491 - accuracy: 0.9870 - val_loss: 0.1011 - val_accuracy: 0.9722\n",
            "Epoch 69/100\n",
            "750/750 [==============================] - 2s 3ms/step - loss: 0.0483 - accuracy: 0.9871 - val_loss: 0.1007 - val_accuracy: 0.9706\n",
            "Epoch 70/100\n",
            "750/750 [==============================] - 3s 4ms/step - loss: 0.0473 - accuracy: 0.9878 - val_loss: 0.1001 - val_accuracy: 0.9712\n",
            "Epoch 71/100\n",
            "750/750 [==============================] - 2s 2ms/step - loss: 0.0467 - accuracy: 0.9879 - val_loss: 0.1014 - val_accuracy: 0.9712\n",
            "Epoch 72/100\n",
            "750/750 [==============================] - 2s 2ms/step - loss: 0.0458 - accuracy: 0.9880 - val_loss: 0.1008 - val_accuracy: 0.9707\n",
            "Epoch 73/100\n",
            "750/750 [==============================] - 2s 2ms/step - loss: 0.0450 - accuracy: 0.9885 - val_loss: 0.1009 - val_accuracy: 0.9714\n",
            "Epoch 74/100\n",
            "750/750 [==============================] - 2s 2ms/step - loss: 0.0441 - accuracy: 0.9883 - val_loss: 0.1004 - val_accuracy: 0.9715\n",
            "Epoch 75/100\n",
            "750/750 [==============================] - 2s 3ms/step - loss: 0.0433 - accuracy: 0.9887 - val_loss: 0.0983 - val_accuracy: 0.9727\n",
            "Epoch 76/100\n",
            "750/750 [==============================] - 3s 4ms/step - loss: 0.0425 - accuracy: 0.9894 - val_loss: 0.1024 - val_accuracy: 0.9708\n",
            "Epoch 77/100\n",
            "750/750 [==============================] - 2s 2ms/step - loss: 0.0419 - accuracy: 0.9891 - val_loss: 0.0983 - val_accuracy: 0.9723\n",
            "Epoch 78/100\n",
            "750/750 [==============================] - 2s 2ms/step - loss: 0.0410 - accuracy: 0.9898 - val_loss: 0.1003 - val_accuracy: 0.9722\n",
            "Epoch 79/100\n",
            "750/750 [==============================] - 2s 2ms/step - loss: 0.0405 - accuracy: 0.9895 - val_loss: 0.0979 - val_accuracy: 0.9727\n",
            "Epoch 80/100\n",
            "750/750 [==============================] - 2s 2ms/step - loss: 0.0397 - accuracy: 0.9901 - val_loss: 0.0974 - val_accuracy: 0.9727\n",
            "Epoch 81/100\n",
            "750/750 [==============================] - 2s 2ms/step - loss: 0.0391 - accuracy: 0.9905 - val_loss: 0.0995 - val_accuracy: 0.9722\n",
            "Epoch 82/100\n",
            "750/750 [==============================] - 3s 4ms/step - loss: 0.0384 - accuracy: 0.9905 - val_loss: 0.0984 - val_accuracy: 0.9713\n",
            "Epoch 83/100\n",
            "750/750 [==============================] - 2s 2ms/step - loss: 0.0376 - accuracy: 0.9909 - val_loss: 0.0997 - val_accuracy: 0.9716\n",
            "Epoch 84/100\n",
            "750/750 [==============================] - 2s 3ms/step - loss: 0.0371 - accuracy: 0.9909 - val_loss: 0.0980 - val_accuracy: 0.9711\n",
            "Epoch 85/100\n",
            "750/750 [==============================] - 2s 2ms/step - loss: 0.0366 - accuracy: 0.9910 - val_loss: 0.0978 - val_accuracy: 0.9732\n",
            "Epoch 86/100\n",
            "750/750 [==============================] - 2s 3ms/step - loss: 0.0359 - accuracy: 0.9911 - val_loss: 0.0975 - val_accuracy: 0.9721\n",
            "Epoch 87/100\n",
            "750/750 [==============================] - 2s 2ms/step - loss: 0.0354 - accuracy: 0.9913 - val_loss: 0.0968 - val_accuracy: 0.9720\n",
            "Epoch 88/100\n",
            "750/750 [==============================] - 3s 4ms/step - loss: 0.0346 - accuracy: 0.9921 - val_loss: 0.0963 - val_accuracy: 0.9721\n",
            "Epoch 89/100\n",
            "750/750 [==============================] - 2s 3ms/step - loss: 0.0339 - accuracy: 0.9923 - val_loss: 0.0976 - val_accuracy: 0.9721\n",
            "Epoch 90/100\n",
            "750/750 [==============================] - 2s 2ms/step - loss: 0.0334 - accuracy: 0.9923 - val_loss: 0.0979 - val_accuracy: 0.9733\n",
            "Epoch 91/100\n",
            "750/750 [==============================] - 2s 2ms/step - loss: 0.0329 - accuracy: 0.9923 - val_loss: 0.0983 - val_accuracy: 0.9724\n",
            "Epoch 92/100\n",
            "750/750 [==============================] - 2s 2ms/step - loss: 0.0324 - accuracy: 0.9924 - val_loss: 0.0981 - val_accuracy: 0.9723\n",
            "Epoch 93/100\n",
            "750/750 [==============================] - 2s 2ms/step - loss: 0.0318 - accuracy: 0.9926 - val_loss: 0.0980 - val_accuracy: 0.9727\n",
            "Epoch 94/100\n",
            "750/750 [==============================] - 3s 4ms/step - loss: 0.0313 - accuracy: 0.9929 - val_loss: 0.0992 - val_accuracy: 0.9728\n",
            "Epoch 95/100\n",
            "750/750 [==============================] - 2s 3ms/step - loss: 0.0307 - accuracy: 0.9933 - val_loss: 0.0974 - val_accuracy: 0.9721\n",
            "Epoch 96/100\n",
            "750/750 [==============================] - 2s 2ms/step - loss: 0.0302 - accuracy: 0.9934 - val_loss: 0.0981 - val_accuracy: 0.9717\n",
            "Epoch 97/100\n",
            "750/750 [==============================] - 2s 2ms/step - loss: 0.0297 - accuracy: 0.9934 - val_loss: 0.0979 - val_accuracy: 0.9726\n",
            "Epoch 98/100\n",
            "750/750 [==============================] - 2s 3ms/step - loss: 0.0292 - accuracy: 0.9933 - val_loss: 0.0982 - val_accuracy: 0.9717\n",
            "Epoch 99/100\n",
            "750/750 [==============================] - 2s 2ms/step - loss: 0.0288 - accuracy: 0.9938 - val_loss: 0.1017 - val_accuracy: 0.9719\n",
            "Epoch 100/100\n",
            "750/750 [==============================] - 3s 3ms/step - loss: 0.0282 - accuracy: 0.9943 - val_loss: 0.0990 - val_accuracy: 0.9724\n"
          ]
        }
      ]
    },
    {
      "cell_type": "code",
      "source": [
        "import matplotlib.pyplot as plt\n",
        "%matplotlib inline\n",
        "# list all data in training\n",
        "print(training.history.keys())"
      ],
      "metadata": {
        "colab": {
          "base_uri": "https://localhost:8080/"
        },
        "id": "Z-tZIj-ASM8Q",
        "outputId": "25712f34-3859-48c0-ebae-9df22ee21417"
      },
      "execution_count": null,
      "outputs": [
        {
          "output_type": "stream",
          "name": "stdout",
          "text": [
            "dict_keys(['loss', 'accuracy', 'val_loss', 'val_accuracy'])\n"
          ]
        }
      ]
    },
    {
      "cell_type": "code",
      "source": [
        "# summarize training for accuracy\n",
        "plt.plot(training.history['accuracy'])\n",
        "plt.plot(training.history['val_accuracy'])\n",
        "plt.title('model accuracy')\n",
        "plt.ylabel('accuracy')\n",
        "plt.xlabel('epoch')\n",
        "plt.legend(['train', 'test'], loc='upper left')\n",
        "plt.show()"
      ],
      "metadata": {
        "colab": {
          "base_uri": "https://localhost:8080/",
          "height": 472
        },
        "id": "rxr-WdK1SO3n",
        "outputId": "f2a87380-6609-4b00-a857-611f68172bb1"
      },
      "execution_count": null,
      "outputs": [
        {
          "output_type": "display_data",
          "data": {
            "text/plain": [
              "<Figure size 640x480 with 1 Axes>"
            ],
            "image/png": "[encoded data removed]"
          },
          "metadata": {}
        }
      ]
    },
    {
      "cell_type": "code",
      "metadata": {
        "id": "0W6J4tagfCYR",
        "colab": {
          "base_uri": "https://localhost:8080/",
          "height": 472
        },
        "outputId": "1a0a26d8-ccba-40fd-d9aa-b60fb55a7847"
      },
      "source": [
        "\n",
        "\n",
        "# summarize traning for loss\n",
        "plt.plot(training.history['loss'])\n",
        "plt.plot(training.history['val_loss'])\n",
        "plt.title('model loss')\n",
        "plt.ylabel('loss')\n",
        "plt.xlabel('epoch')\n",
        "plt.legend(['train', 'test'], loc='upper left')\n",
        "plt.show()"
      ],
      "execution_count": null,
      "outputs": [
        {
          "output_type": "display_data",
          "data": {
            "text/plain": [
              "<Figure size 640x480 with 1 Axes>"
            ],
            "image/png": "[encoded data removed]"
          },
          "metadata": {}
        }
      ]
    },
    {
      "cell_type": "code",
      "metadata": {
        "id": "LG8UWh68fCYe",
        "colab": {
          "base_uri": "https://localhost:8080/"
        },
        "outputId": "5f15195f-d511-4880-a1e1-5bac1e4e141c"
      },
      "source": [
        "#evaluate the model\n",
        "test_loss, test_acc = model_1.evaluate(X_test, Y_test)\n",
        "print('Test accuracy:', test_acc)"
      ],
      "execution_count": null,
      "outputs": [
        {
          "output_type": "stream",
          "name": "stdout",
          "text": [
            "313/313 [==============================] - 1s 2ms/step - loss: 0.0935 - accuracy: 0.9737\n",
            "Test accuracy: 0.9736999869346619\n"
          ]
        }
      ]
    },
    {
      "cell_type": "code",
      "metadata": {
        "id": "iE5uSPRvfCYq",
        "colab": {
          "base_uri": "https://localhost:8080/"
        },
        "outputId": "01c57ab9-d9b8-4feb-8869-02d019bce1a8"
      },
      "source": [
        "model_1.summary()"
      ],
      "execution_count": null,
      "outputs": [
        {
          "output_type": "stream",
          "name": "stdout",
          "text": [
            "Model: \"sequential_2\"\n",
            "_________________________________________________________________\n",
            " Layer (type)                Output Shape              Param #   \n",
            "=================================================================\n",
            " dense_layer (Dense)         (None, 64)                50240     \n",
            "                                                                 \n",
            " dense_layer_2 (Dense)       (None, 64)                4160      \n",
            "                                                                 \n",
            " dense_layer_3 (Dense)       (None, 10)                650       \n",
            "                                                                 \n",
            "=================================================================\n",
            "Total params: 55050 (215.04 KB)\n",
            "Trainable params: 55050 (215.04 KB)\n",
            "Non-trainable params: 0 (0.00 Byte)\n",
            "_________________________________________________________________\n"
          ]
        }
      ]
    },
    {
      "cell_type": "code",
      "metadata": {
        "id": "p3TehZJnAlD6",
        "colab": {
          "base_uri": "https://localhost:8080/"
        },
        "outputId": "6028d1e9-2872-46d8-a57f-a94d7447c39d"
      },
      "source": [
        "model_1.weights"
      ],
      "execution_count": null,
      "outputs": [
        {
          "output_type": "execute_result",
          "data": {
            "text/plain": [
              "[<tf.Variable 'dense_layer/kernel:0' shape=(784, 64) dtype=float32, numpy=\n",
              " array([[-0.05847732, -0.0690882 , -0.02888926, ..., -0.05067391,\n",
              "          0.06071425, -0.03828491],\n",
              "        [-0.06859479, -0.0214202 , -0.04624689, ...,  0.04242178,\n",
              "          0.05075761,  0.01450612],\n",
              "        [ 0.01504537, -0.02647778, -0.02775396, ...,  0.03609607,\n",
              "         -0.0556935 , -0.05101271],\n",
              "        ...,\n",
              "        [-0.07153061, -0.01222894,  0.032258  , ...,  0.04701906,\n",
              "         -0.06434143,  0.02126268],\n",
              "        [-0.07772764, -0.00978541, -0.07248666, ..., -0.07394163,\n",
              "         -0.04050916, -0.07780134],\n",
              "        [ 0.02386974, -0.0447686 ,  0.04192159, ..., -0.07948211,\n",
              "          0.00671813,  0.00719381]], dtype=float32)>,\n",
              " <tf.Variable 'dense_layer/bias:0' shape=(64,) dtype=float32, numpy=\n",
              " array([-0.09093144, -0.02635833, -0.09575777,  0.10650162, -0.00562259,\n",
              "         0.0070428 ,  0.22280087,  0.10212185,  0.02627788,  0.04500114,\n",
              "         0.00493732,  0.01011719,  0.10765038,  0.00623657, -0.09107369,\n",
              "         0.01020602,  0.12505065,  0.14262941,  0.06606539,  0.01266738,\n",
              "         0.08803467, -0.10159534,  0.03926922,  0.09227808,  0.01900007,\n",
              "         0.0794821 , -0.06903411,  0.00051103,  0.02635707,  0.00926714,\n",
              "         0.10196464,  0.08400752,  0.06823265,  0.10082424, -0.08709923,\n",
              "         0.03525228,  0.09978191,  0.0056856 ,  0.12116347,  0.19136319,\n",
              "         0.04703711,  0.13614531,  0.10340867, -0.12173848,  0.2011379 ,\n",
              "        -0.0183372 , -0.01296352, -0.02282381, -0.05277186, -0.06538995,\n",
              "         0.04492481,  0.1165162 , -0.02688799,  0.07785723, -0.01882644,\n",
              "        -0.0662707 ,  0.1158589 ,  0.10297254, -0.04968208,  0.06787484,\n",
              "        -0.00727249, -0.11744482, -0.10892424,  0.02332327], dtype=float32)>,\n",
              " <tf.Variable 'dense_layer_2/kernel:0' shape=(64, 64) dtype=float32, numpy=\n",
              " array([[ 0.15412064,  0.273477  , -0.078712  , ...,  0.1492891 ,\n",
              "          0.14548199, -0.12974837],\n",
              "        [-0.04434393, -0.19591357, -0.0912728 , ..., -0.00439208,\n",
              "          0.07804459, -0.20747894],\n",
              "        [-0.23944119,  0.1529994 ,  0.01903597, ...,  0.07999487,\n",
              "         -0.16093364,  0.02845411],\n",
              "        ...,\n",
              "        [-0.09316949,  0.1367045 , -0.14629248, ..., -0.03902096,\n",
              "         -0.05304215, -0.07709977],\n",
              "        [ 0.34887615,  0.27825156, -0.26511237, ..., -0.1176121 ,\n",
              "         -0.17550036,  0.11375321],\n",
              "        [-0.02872697,  0.3815508 ,  0.17688349, ...,  0.15056956,\n",
              "         -0.13290046, -0.15880948]], dtype=float32)>,\n",
              " <tf.Variable 'dense_layer_2/bias:0' shape=(64,) dtype=float32, numpy=\n",
              " array([ 0.01666249,  0.01855692,  0.1403905 ,  0.01432344, -0.00845652,\n",
              "         0.05205991,  0.05007915,  0.00605185,  0.06028472,  0.05589729,\n",
              "         0.00420779,  0.06614072,  0.05400199, -0.04635157, -0.02851691,\n",
              "         0.02703108, -0.07881317,  0.02372824,  0.00725448,  0.05416046,\n",
              "         0.03510703,  0.00993804,  0.0442997 ,  0.12069894, -0.00844339,\n",
              "         0.03601739,  0.06825918,  0.03727414,  0.00262374,  0.12103907,\n",
              "         0.04373411,  0.00113236, -0.03296213, -0.01324212,  0.07872004,\n",
              "         0.05084698, -0.05931629,  0.05286442, -0.02642603,  0.0377567 ,\n",
              "         0.03898032,  0.00028607,  0.08053978,  0.0798931 , -0.02141486,\n",
              "         0.02907946, -0.00774743,  0.05512418,  0.05354187,  0.2273492 ,\n",
              "        -0.00698522,  0.09880053,  0.05367438, -0.06444089,  0.02801017,\n",
              "         0.00657885,  0.09559043,  0.01059371,  0.13478917,  0.01547672,\n",
              "        -0.05850933, -0.03695415, -0.04753059, -0.02041328], dtype=float32)>,\n",
              " <tf.Variable 'dense_layer_3/kernel:0' shape=(64, 10) dtype=float32, numpy=\n",
              " array([[ 8.39991271e-02, -4.57071438e-02, -3.93055193e-03,\n",
              "          1.92268062e-02, -5.30705564e-02,  5.32267392e-01,\n",
              "          3.73800285e-02, -8.84725928e-01,  1.64859235e-01,\n",
              "          1.41543031e-01],\n",
              "        [ 4.16650057e-01,  3.64996284e-01,  1.01839446e-01,\n",
              "         -9.65449736e-02, -5.50924182e-01,  5.64087987e-01,\n",
              "          5.94260037e-01, -2.26603467e-02, -5.31998336e-01,\n",
              "         -3.97270173e-01],\n",
              "        [-3.16940993e-01,  3.12073380e-01,  8.05870295e-02,\n",
              "         -5.16675651e-01, -6.23411000e-01,  1.03116795e-01,\n",
              "         -4.68243718e-01,  3.75567257e-01,  3.36569399e-01,\n",
              "          1.81157544e-01],\n",
              "        [ 2.48850007e-02,  1.03582077e-01,  2.76379406e-01,\n",
              "         -1.73563063e-02, -8.23662221e-01,  6.74696982e-01,\n",
              "          2.77832657e-01, -4.43070441e-01,  4.76810843e-01,\n",
              "          2.03147396e-01],\n",
              "        [-1.07027955e-01, -1.82710230e-01,  3.67058933e-01,\n",
              "          9.95412692e-02, -1.77590623e-01, -1.74321041e-01,\n",
              "         -5.85324541e-02,  8.09040725e-01, -9.26526561e-02,\n",
              "         -7.04762876e-01],\n",
              "        [-4.12002951e-01,  4.13874596e-01,  1.12898648e-01,\n",
              "          1.78296700e-01,  7.88995445e-01, -3.87174636e-01,\n",
              "         -1.60106905e-02,  9.04478319e-03, -8.35159644e-02,\n",
              "         -5.40141404e-01],\n",
              "        [ 1.14330269e-01, -1.09306745e-01,  4.76195604e-01,\n",
              "         -4.38880235e-01,  1.78022906e-01, -4.95173261e-02,\n",
              "          1.45396009e-01, -1.03988320e-01,  2.92723775e-01,\n",
              "         -6.74183607e-01],\n",
              "        [ 1.71382099e-01, -2.98993699e-02,  1.04885317e-01,\n",
              "         -1.29241973e-01, -1.32554233e-01, -1.84448287e-01,\n",
              "         -7.96444342e-02,  4.96565327e-02, -1.62992388e-01,\n",
              "         -1.79105431e-01],\n",
              "        [-9.70235765e-01,  6.05096996e-01,  3.18006545e-01,\n",
              "          8.96893919e-01, -4.93026942e-01,  6.75185263e-01,\n",
              "         -4.03126329e-01, -4.46735084e-01,  3.14882547e-02,\n",
              "          1.08289860e-01],\n",
              "        [-5.25982857e-01, -3.75351310e-01, -1.95363119e-01,\n",
              "          1.58108950e-01,  1.65883645e-01,  5.21301746e-01,\n",
              "         -8.24314822e-03, -1.12516262e-01,  3.81479293e-01,\n",
              "         -4.24599290e-01],\n",
              "        [ 2.83594191e-01, -5.45801632e-02, -1.18375726e-01,\n",
              "         -2.60855198e-01,  5.76218478e-02,  2.32931286e-01,\n",
              "         -1.07879296e-01,  5.08968420e-02, -4.62219790e-02,\n",
              "         -2.50960678e-01],\n",
              "        [-4.03625876e-01, -4.37008262e-01, -1.31440625e-01,\n",
              "          1.03405818e-01,  2.31179167e-02,  7.63511598e-01,\n",
              "          1.66643430e-02, -7.91806519e-01,  9.31822285e-02,\n",
              "          4.85724777e-01],\n",
              "        [-2.10619971e-01,  4.70105648e-01,  4.86094624e-01,\n",
              "         -5.74885070e-01, -7.70342797e-02,  1.13254152e-01,\n",
              "         -2.72793710e-01, -2.44402140e-01, -6.89933896e-01,\n",
              "         -1.23005576e-01],\n",
              "        [-2.99344569e-01,  5.83947241e-01, -2.71615237e-01,\n",
              "          1.02772558e+00, -3.18024933e-01, -5.00767410e-01,\n",
              "         -7.13376284e-01,  3.34477365e-01,  4.02044691e-02,\n",
              "         -1.95404500e-01],\n",
              "        [-2.81116068e-01, -1.89682648e-01,  1.09563358e-01,\n",
              "         -4.71950099e-02,  5.55395894e-02, -3.02290410e-01,\n",
              "         -1.12339988e-01,  1.59684211e-01,  1.57509163e-01,\n",
              "         -6.46267682e-02],\n",
              "        [ 3.49795789e-01, -3.99440005e-02, -1.33337453e-01,\n",
              "         -3.49373370e-01,  2.54955500e-01, -4.30142552e-01,\n",
              "         -1.30596057e-01,  2.61934847e-01,  4.54757035e-01,\n",
              "         -2.66030341e-01],\n",
              "        [ 5.90604007e-01,  1.87681258e-01,  8.33363771e-01,\n",
              "         -2.64654070e-01, -6.32488549e-01, -4.90047455e-01,\n",
              "         -3.27253312e-01,  2.95336485e-01, -3.27545732e-01,\n",
              "          2.24751428e-01],\n",
              "        [ 1.36470079e-01,  2.51163542e-01, -2.96285927e-01,\n",
              "         -9.74770486e-02,  2.17275932e-01,  3.20254862e-02,\n",
              "         -2.26534620e-01,  1.61781400e-01, -9.57215905e-01,\n",
              "          5.53852201e-01],\n",
              "        [ 1.31842300e-01,  3.70452166e-01,  3.58287126e-01,\n",
              "         -5.44804931e-01, -1.90354306e-02, -4.79165912e-01,\n",
              "         -1.02822863e-01,  4.59262371e-01,  4.52332735e-01,\n",
              "         -4.33548205e-02],\n",
              "        [-1.67686418e-01,  3.27074349e-01, -4.94880944e-01,\n",
              "          5.32723106e-02, -1.09271936e-01, -5.44760749e-03,\n",
              "          8.87051076e-02, -3.89013290e-01,  5.83079815e-01,\n",
              "          2.40042895e-01],\n",
              "        [ 1.53128460e-01, -6.28641725e-01, -3.57252628e-01,\n",
              "          4.47737396e-01, -1.92222744e-01, -2.74959385e-01,\n",
              "         -8.72955769e-02, -5.20859361e-01,  4.50618625e-01,\n",
              "          6.66711032e-01],\n",
              "        [ 3.57909113e-01,  2.76542485e-01,  8.15321207e-02,\n",
              "          3.82807478e-02,  2.72774458e-01,  2.64757216e-01,\n",
              "          1.13229729e-01,  2.63285995e-01, -4.70807523e-01,\n",
              "          3.11674625e-01],\n",
              "        [-1.39771625e-01,  1.39771163e-01, -2.29453623e-01,\n",
              "         -6.17317200e-01,  1.06223738e+00, -6.08074069e-01,\n",
              "          2.18652472e-01, -9.76170227e-02,  5.64937830e-01,\n",
              "         -7.16266692e-01],\n",
              "        [ 1.00156151e-01, -4.21815157e-01, -4.38578069e-01,\n",
              "         -3.36058378e-01,  2.14170590e-01,  3.12130362e-01,\n",
              "         -4.79063511e-01, -3.12148243e-01,  2.27831617e-01,\n",
              "          7.25421846e-01],\n",
              "        [ 1.94239810e-01,  2.33912300e-02,  4.11812186e-01,\n",
              "          5.16470850e-01, -2.97598094e-01,  3.15911382e-01,\n",
              "          3.00227195e-01, -2.63522744e-01, -2.93844581e-01,\n",
              "         -5.59845984e-01],\n",
              "        [ 5.91605663e-01, -4.46594357e-01,  1.87440872e-01,\n",
              "         -7.91897327e-02, -1.65708035e-01, -5.22483289e-01,\n",
              "         -1.48219783e-02, -4.22435701e-01,  1.93499535e-01,\n",
              "          5.80745757e-01],\n",
              "        [-4.86899197e-01,  4.09194469e-01, -3.48894894e-01,\n",
              "          1.09064668e-01, -2.95084566e-01,  4.65418816e-01,\n",
              "          5.04970551e-01, -2.02494368e-01,  4.16812330e-01,\n",
              "         -4.77727950e-01],\n",
              "        [-1.34678569e-03, -5.60883820e-01,  1.28991887e-01,\n",
              "         -3.48514140e-01,  1.56641290e-01, -4.14251357e-01,\n",
              "          5.62221408e-01, -4.41106856e-02,  4.12005812e-01,\n",
              "          4.03427809e-01],\n",
              "        [ 1.01010613e-01, -2.72169322e-01, -2.56730616e-01,\n",
              "          2.84770966e-01, -1.15424968e-01,  2.24157438e-01,\n",
              "          3.90136167e-02, -1.01120643e-01,  2.30047792e-01,\n",
              "          1.65332794e-01],\n",
              "        [-3.59425753e-01,  3.02710593e-01, -4.29438978e-01,\n",
              "         -2.33745128e-01,  8.54229927e-01,  6.31712154e-02,\n",
              "         -2.52751738e-01,  1.96009651e-01, -8.26513618e-02,\n",
              "         -3.69542539e-01],\n",
              "        [-5.76129705e-02, -2.30099306e-01,  5.15798330e-01,\n",
              "         -3.91985446e-01, -3.37093621e-01,  2.56481707e-01,\n",
              "          3.96864295e-01, -1.67407095e-01,  1.78924948e-01,\n",
              "         -4.29826260e-01],\n",
              "        [ 1.23459242e-01, -4.69107032e-01, -2.79883713e-01,\n",
              "         -2.59322226e-01, -6.12086058e-01,  1.85703829e-01,\n",
              "          3.82633001e-01,  3.05528700e-01,  2.78112024e-01,\n",
              "          1.07049309e-01],\n",
              "        [-2.24421233e-01,  3.70840460e-01,  5.35604835e-01,\n",
              "          4.52161312e-01,  1.17094085e-01,  2.86902606e-01,\n",
              "          1.65845975e-01,  5.58725953e-01, -3.58270913e-01,\n",
              "         -3.79654795e-01],\n",
              "        [-1.84375539e-01, -1.29755974e-01,  3.64464641e-01,\n",
              "          7.56738365e-01, -2.95949519e-01, -5.98675191e-01,\n",
              "         -1.98202521e-01,  2.09140241e-01,  2.92200685e-01,\n",
              "          3.97886753e-01],\n",
              "        [-3.34274769e-01,  5.55466861e-02,  6.06724501e-01,\n",
              "          6.47597313e-01,  5.09685218e-01, -6.12763464e-01,\n",
              "          1.88029379e-01,  5.49818613e-02, -6.30979836e-01,\n",
              "         -1.03870881e+00],\n",
              "        [ 9.47194770e-02, -6.36173427e-01, -3.54383826e-01,\n",
              "          4.97290522e-01, -4.45332050e-01,  4.79789227e-01,\n",
              "         -1.87482834e-01, -1.18080817e-01,  6.41658247e-01,\n",
              "         -3.08077306e-01],\n",
              "        [ 1.36849925e-01, -7.67123401e-02,  6.29596472e-01,\n",
              "         -4.42737751e-02, -4.98657972e-01, -1.15726024e-01,\n",
              "          2.29460299e-02,  3.72632474e-01,  3.85693274e-02,\n",
              "         -6.28174067e-01],\n",
              "        [ 1.37309298e-01, -1.19903490e-01,  2.28973791e-01,\n",
              "          4.00789887e-01, -3.09810132e-01,  4.17217582e-01,\n",
              "          7.42490515e-02, -2.35018879e-01, -3.88253391e-01,\n",
              "         -2.86207974e-01],\n",
              "        [ 1.86571062e-01,  2.12916523e-01,  4.97362316e-02,\n",
              "          9.78094116e-02, -1.00198060e-01, -2.43309915e-01,\n",
              "         -1.74860597e-01, -1.64378986e-01,  1.74565554e-01,\n",
              "          9.66701424e-04],\n",
              "        [ 3.54343444e-01, -2.43367791e-01,  3.26157033e-01,\n",
              "         -3.24876159e-02, -5.19763716e-02,  7.44602799e-01,\n",
              "          7.37868100e-02,  1.63677126e-01, -4.27017212e-01,\n",
              "         -6.08438492e-01],\n",
              "        [-1.30997300e-01,  7.94265233e-03, -6.09964609e-01,\n",
              "         -1.18817829e-01, -2.03156844e-01,  2.08558306e-01,\n",
              "         -2.84593225e-01,  6.09898448e-01, -8.91085505e-01,\n",
              "          6.85485184e-01],\n",
              "        [ 2.10846798e-03,  7.43948855e-03,  8.66355225e-02,\n",
              "         -2.39199460e-01,  1.58830121e-01,  4.30442505e-02,\n",
              "          8.48838240e-02,  1.29056498e-01,  2.16560960e-01,\n",
              "          2.49433592e-01],\n",
              "        [-2.78378099e-01, -3.19456339e-01,  5.17716035e-02,\n",
              "         -4.69932914e-01,  6.36237800e-01, -2.68910497e-01,\n",
              "          8.61339033e-01, -4.73852575e-01, -1.30765274e-01,\n",
              "         -4.39053550e-02],\n",
              "        [ 3.83409262e-01,  6.58957601e-01, -3.40041846e-01,\n",
              "         -2.97063470e-01, -3.84608775e-01,  3.03442746e-01,\n",
              "         -1.04015000e-01,  8.51187930e-02,  1.23619894e-02,\n",
              "         -4.64970529e-01],\n",
              "        [ 7.25355595e-02, -4.10429567e-01,  4.41934377e-01,\n",
              "          5.09802103e-01, -5.41378915e-01, -1.41265199e-01,\n",
              "         -7.35939890e-02, -7.31874555e-02,  2.56605059e-01,\n",
              "          4.67003942e-01],\n",
              "        [ 1.09656282e-01,  1.71600774e-01, -2.29785994e-01,\n",
              "          1.61519367e-02,  3.94413292e-01, -3.52144808e-01,\n",
              "          5.70440590e-01,  1.52778432e-01, -1.64843500e-02,\n",
              "         -2.57619858e-01],\n",
              "        [ 8.31871331e-02, -2.24142984e-01,  2.32981235e-01,\n",
              "         -2.69593716e-01, -4.59729254e-01, -2.21520185e-01,\n",
              "          3.35512832e-02,  3.28223407e-01,  1.46884635e-01,\n",
              "         -2.65349001e-01],\n",
              "        [-5.72093353e-02, -6.04989342e-02,  9.06497478e-01,\n",
              "         -4.32809383e-01, -1.42223939e-01, -1.36660784e-01,\n",
              "         -4.00186151e-01, -2.32602179e-01, -4.35541451e-01,\n",
              "          3.66476700e-02],\n",
              "        [ 2.83943802e-01,  2.92078763e-01, -4.07997698e-01,\n",
              "         -6.66703224e-01, -3.32617164e-01,  2.61802524e-01,\n",
              "          5.26662648e-01, -1.23099267e-01,  3.69669288e-01,\n",
              "         -3.68144453e-01],\n",
              "        [-4.03974742e-01, -3.66868407e-01,  1.99824393e-01,\n",
              "          2.05881283e-01,  2.30167314e-01,  5.68301082e-01,\n",
              "         -8.08314085e-01,  4.39111352e-01,  1.41536459e-01,\n",
              "          4.95986998e-01],\n",
              "        [ 6.66353106e-02, -2.17932701e-01, -9.07851476e-03,\n",
              "          4.91900258e-02, -3.49214412e-02,  1.44069612e-01,\n",
              "          1.94296569e-01, -2.91993394e-02,  1.76461339e-01,\n",
              "          2.51475722e-01],\n",
              "        [ 2.52155781e-01, -1.94907770e-01,  2.20372990e-01,\n",
              "         -3.74790579e-02,  6.38333082e-01, -1.20119452e-01,\n",
              "         -2.99314052e-01,  6.52289569e-01, -6.40589833e-01,\n",
              "         -2.90520340e-01],\n",
              "        [ 4.46539730e-01, -4.12393212e-01, -3.33742857e-01,\n",
              "          4.73634690e-01, -2.67706215e-01,  4.08847153e-01,\n",
              "          4.92438078e-01,  2.69810587e-01, -1.77458704e-01,\n",
              "         -2.69347221e-01],\n",
              "        [-2.02170581e-01, -3.18856090e-01,  6.65818155e-01,\n",
              "         -3.17575961e-01, -4.68112797e-01, -2.11020902e-01,\n",
              "         -5.09608507e-01,  4.02857363e-01,  3.02187651e-01,\n",
              "         -2.39620551e-01],\n",
              "        [ 1.47467837e-01,  4.44669455e-01,  1.61571920e-01,\n",
              "         -7.90518373e-02,  2.41653770e-01, -1.01873577e+00,\n",
              "         -1.01599254e-01,  7.08379626e-01, -9.65964571e-02,\n",
              "          8.31638649e-02],\n",
              "        [ 5.61356723e-01, -2.75064737e-01,  2.30542764e-01,\n",
              "          7.76519179e-02,  1.92237884e-01, -1.26675278e-01,\n",
              "          7.84855857e-02, -6.12204432e-01,  5.51787555e-01,\n",
              "         -2.07453236e-01],\n",
              "        [-2.74452060e-01,  4.88395572e-01,  1.46171764e-01,\n",
              "         -7.45043278e-01,  6.58441782e-02, -2.72094369e-01,\n",
              "          2.17231497e-01, -1.34195149e-01, -1.42689452e-01,\n",
              "          3.91039431e-01],\n",
              "        [-2.74586797e-01,  1.48064449e-01, -3.85769047e-02,\n",
              "          2.51844049e-01,  1.50164425e-01, -1.96571037e-01,\n",
              "         -1.95613146e-01, -1.86438650e-01, -1.81305468e-01,\n",
              "          7.16891512e-02],\n",
              "        [-1.56310067e-01, -1.11189529e-01, -3.54911059e-01,\n",
              "          1.92090243e-01,  3.76198053e-01,  8.34174097e-01,\n",
              "         -1.54623866e-01,  2.90394306e-01,  1.16431944e-01,\n",
              "         -3.54982555e-01],\n",
              "        [-2.82784492e-01, -1.33977205e-01,  4.80671227e-01,\n",
              "          7.63894394e-02, -2.64066458e-03, -2.59803653e-01,\n",
              "          1.37707129e-01, -2.05599174e-01,  4.68658023e-02,\n",
              "          3.87796536e-02],\n",
              "        [ 4.92046505e-01,  1.52133912e-01,  2.74459898e-01,\n",
              "          4.22330260e-01,  5.30036449e-01, -5.41165292e-01,\n",
              "         -2.18510464e-01, -1.05004683e-01, -7.44736552e-01,\n",
              "          1.10381946e-01],\n",
              "        [-1.54657915e-01, -2.32818112e-01,  6.05035126e-01,\n",
              "          2.65947491e-01, -3.86886567e-01, -3.49001944e-01,\n",
              "         -3.89335573e-01,  1.74396336e-01,  2.85459310e-01,\n",
              "          2.29009911e-01],\n",
              "        [-2.18844801e-01,  6.44033924e-02,  1.02809280e-01,\n",
              "          1.40441895e-01,  1.63290590e-01, -2.05804035e-01,\n",
              "          3.79112698e-02, -1.56942621e-01, -4.92225122e-03,\n",
              "         -2.45972335e-01],\n",
              "        [ 1.06907986e-01, -6.79690242e-02, -6.94473445e-01,\n",
              "          3.46644163e-01,  2.44812235e-01, -1.10514678e-01,\n",
              "         -2.89332330e-01,  3.78787845e-01,  1.09927975e-01,\n",
              "          1.58623740e-01]], dtype=float32)>,\n",
              " <tf.Variable 'dense_layer_3/bias:0' shape=(10,) dtype=float32, numpy=\n",
              " array([-0.12279499,  0.09766947, -0.07942584, -0.05105991,  0.14772378,\n",
              "         0.19525358, -0.04055192, -0.01930045, -0.17737864,  0.04986482],\n",
              "       dtype=float32)>]"
            ]
          },
          "metadata": {},
          "execution_count": 34
        }
      ]
    },
    {
      "cell_type": "markdown",
      "metadata": {
        "id": "Nw7DXcLYfZzp"
      },
      "source": [
        "###Improved Model 2 - Adding Dropout to Avoid Overfitting"
      ]
    },
    {
      "cell_type": "code",
      "metadata": {
        "id": "AXUf6nhvBHnc"
      },
      "source": [
        "from tensorflow.keras.layers import Dropout\n",
        "\n",
        "#Most common type of model is a stack of layers\n",
        "model_2 = tf.keras.Sequential()\n",
        "N_hidden = 128\n",
        "\n",
        "# Adds a densely-connected layer with 64 units to the model:\n",
        "model_2.add(Dense(N_hidden, name='dense_layer', input_shape=(784,), activation = 'relu'))\n",
        "model_2.add(Dropout(0.3))\n",
        "\n",
        "# Adding another dense layer:\n",
        "model_2.add(Dense(N_hidden, name='dense_layer_2', activation='relu'))\n",
        "model_2.add(Dropout(0.3))\n",
        "\n",
        "# Add an output layer with 10 output units (10 different classes):\n",
        "model_2.add(Dense(10, name='dense_layer_3', activation = 'softmax'))\n"
      ],
      "execution_count": null,
      "outputs": []
    },
    {
      "cell_type": "code",
      "metadata": {
        "id": "wo95PYlPgBe4"
      },
      "source": [
        "# Compiling the model.\n",
        "model_2.compile(optimizer='SGD',\n",
        "              loss='categorical_crossentropy',\n",
        "              metrics=['accuracy'])"
      ],
      "execution_count": null,
      "outputs": []
    },
    {
      "cell_type": "code",
      "metadata": {
        "id": "VfargzxGgBfI",
        "colab": {
          "base_uri": "https://localhost:8080/"
        },
        "outputId": "537b9cd4-729c-4049-8d8c-48674734413b"
      },
      "source": [
        "# Training the model.\n",
        "training = model_2.fit(X_train, Y_train, batch_size=64, epochs=50, validation_split=0.2)"
      ],
      "execution_count": null,
      "outputs": [
        {
          "output_type": "stream",
          "name": "stdout",
          "text": [
            "Epoch 1/50\n",
            "750/750 [==============================] - 3s 4ms/step - loss: 1.3059 - accuracy: 0.5944 - val_loss: 0.5206 - val_accuracy: 0.8725\n",
            "Epoch 2/50\n",
            "750/750 [==============================] - 3s 4ms/step - loss: 0.6367 - accuracy: 0.8073 - val_loss: 0.3698 - val_accuracy: 0.8978\n",
            "Epoch 3/50\n",
            "750/750 [==============================] - 3s 3ms/step - loss: 0.5107 - accuracy: 0.8489 - val_loss: 0.3171 - val_accuracy: 0.9087\n",
            "Epoch 4/50\n",
            "750/750 [==============================] - 3s 3ms/step - loss: 0.4472 - accuracy: 0.8679 - val_loss: 0.2883 - val_accuracy: 0.9165\n",
            "Epoch 5/50\n",
            "750/750 [==============================] - 3s 3ms/step - loss: 0.4030 - accuracy: 0.8813 - val_loss: 0.2633 - val_accuracy: 0.9227\n",
            "Epoch 6/50\n",
            "750/750 [==============================] - 4s 5ms/step - loss: 0.3757 - accuracy: 0.8898 - val_loss: 0.2454 - val_accuracy: 0.9269\n",
            "Epoch 7/50\n",
            "750/750 [==============================] - 3s 3ms/step - loss: 0.3457 - accuracy: 0.8981 - val_loss: 0.2309 - val_accuracy: 0.9309\n",
            "Epoch 8/50\n",
            "750/750 [==============================] - 3s 3ms/step - loss: 0.3276 - accuracy: 0.9052 - val_loss: 0.2189 - val_accuracy: 0.9355\n",
            "Epoch 9/50\n",
            "750/750 [==============================] - 3s 3ms/step - loss: 0.3123 - accuracy: 0.9086 - val_loss: 0.2082 - val_accuracy: 0.9390\n",
            "Epoch 10/50\n",
            "750/750 [==============================] - 3s 4ms/step - loss: 0.2986 - accuracy: 0.9110 - val_loss: 0.1968 - val_accuracy: 0.9413\n",
            "Epoch 11/50\n",
            "750/750 [==============================] - 3s 4ms/step - loss: 0.2840 - accuracy: 0.9174 - val_loss: 0.1895 - val_accuracy: 0.9448\n",
            "Epoch 12/50\n",
            "750/750 [==============================] - 3s 3ms/step - loss: 0.2725 - accuracy: 0.9204 - val_loss: 0.1814 - val_accuracy: 0.9466\n",
            "Epoch 13/50\n",
            "750/750 [==============================] - 3s 3ms/step - loss: 0.2608 - accuracy: 0.9244 - val_loss: 0.1766 - val_accuracy: 0.9492\n",
            "Epoch 14/50\n",
            "750/750 [==============================] - 3s 3ms/step - loss: 0.2544 - accuracy: 0.9254 - val_loss: 0.1697 - val_accuracy: 0.9511\n",
            "Epoch 15/50\n",
            "750/750 [==============================] - 4s 5ms/step - loss: 0.2426 - accuracy: 0.9283 - val_loss: 0.1637 - val_accuracy: 0.9528\n",
            "Epoch 16/50\n",
            "750/750 [==============================] - 3s 4ms/step - loss: 0.2384 - accuracy: 0.9310 - val_loss: 0.1585 - val_accuracy: 0.9544\n",
            "Epoch 17/50\n",
            "750/750 [==============================] - 3s 3ms/step - loss: 0.2275 - accuracy: 0.9325 - val_loss: 0.1540 - val_accuracy: 0.9557\n",
            "Epoch 18/50\n",
            "750/750 [==============================] - 3s 3ms/step - loss: 0.2193 - accuracy: 0.9351 - val_loss: 0.1501 - val_accuracy: 0.9569\n",
            "Epoch 19/50\n",
            "750/750 [==============================] - 3s 4ms/step - loss: 0.2168 - accuracy: 0.9355 - val_loss: 0.1492 - val_accuracy: 0.9557\n",
            "Epoch 20/50\n",
            "750/750 [==============================] - 3s 4ms/step - loss: 0.2105 - accuracy: 0.9380 - val_loss: 0.1448 - val_accuracy: 0.9570\n",
            "Epoch 21/50\n",
            "750/750 [==============================] - 3s 3ms/step - loss: 0.2050 - accuracy: 0.9391 - val_loss: 0.1412 - val_accuracy: 0.9585\n",
            "Epoch 22/50\n",
            "750/750 [==============================] - 3s 3ms/step - loss: 0.2006 - accuracy: 0.9414 - val_loss: 0.1381 - val_accuracy: 0.9587\n",
            "Epoch 23/50\n",
            "750/750 [==============================] - 3s 3ms/step - loss: 0.1961 - accuracy: 0.9422 - val_loss: 0.1348 - val_accuracy: 0.9593\n",
            "Epoch 24/50\n",
            "750/750 [==============================] - 3s 5ms/step - loss: 0.1909 - accuracy: 0.9441 - val_loss: 0.1321 - val_accuracy: 0.9615\n",
            "Epoch 25/50\n",
            "750/750 [==============================] - 3s 4ms/step - loss: 0.1862 - accuracy: 0.9450 - val_loss: 0.1292 - val_accuracy: 0.9629\n",
            "Epoch 26/50\n",
            "750/750 [==============================] - 3s 3ms/step - loss: 0.1832 - accuracy: 0.9458 - val_loss: 0.1273 - val_accuracy: 0.9630\n",
            "Epoch 27/50\n",
            "750/750 [==============================] - 3s 3ms/step - loss: 0.1800 - accuracy: 0.9460 - val_loss: 0.1246 - val_accuracy: 0.9640\n",
            "Epoch 28/50\n",
            "750/750 [==============================] - 3s 4ms/step - loss: 0.1774 - accuracy: 0.9474 - val_loss: 0.1241 - val_accuracy: 0.9638\n",
            "Epoch 29/50\n",
            "750/750 [==============================] - 3s 4ms/step - loss: 0.1737 - accuracy: 0.9486 - val_loss: 0.1220 - val_accuracy: 0.9637\n",
            "Epoch 30/50\n",
            "750/750 [==============================] - 3s 3ms/step - loss: 0.1690 - accuracy: 0.9499 - val_loss: 0.1218 - val_accuracy: 0.9637\n",
            "Epoch 31/50\n",
            "750/750 [==============================] - 3s 3ms/step - loss: 0.1653 - accuracy: 0.9504 - val_loss: 0.1182 - val_accuracy: 0.9652\n",
            "Epoch 32/50\n",
            "750/750 [==============================] - 3s 3ms/step - loss: 0.1626 - accuracy: 0.9510 - val_loss: 0.1167 - val_accuracy: 0.9665\n",
            "Epoch 33/50\n",
            "750/750 [==============================] - 4s 5ms/step - loss: 0.1592 - accuracy: 0.9523 - val_loss: 0.1153 - val_accuracy: 0.9671\n",
            "Epoch 34/50\n",
            "750/750 [==============================] - 3s 4ms/step - loss: 0.1608 - accuracy: 0.9517 - val_loss: 0.1140 - val_accuracy: 0.9676\n",
            "Epoch 35/50\n",
            "750/750 [==============================] - 3s 3ms/step - loss: 0.1531 - accuracy: 0.9539 - val_loss: 0.1129 - val_accuracy: 0.9669\n",
            "Epoch 36/50\n",
            "750/750 [==============================] - 3s 3ms/step - loss: 0.1518 - accuracy: 0.9556 - val_loss: 0.1110 - val_accuracy: 0.9675\n",
            "Epoch 37/50\n",
            "750/750 [==============================] - 3s 4ms/step - loss: 0.1508 - accuracy: 0.9552 - val_loss: 0.1103 - val_accuracy: 0.9677\n",
            "Epoch 38/50\n",
            "750/750 [==============================] - 3s 4ms/step - loss: 0.1442 - accuracy: 0.9564 - val_loss: 0.1097 - val_accuracy: 0.9688\n",
            "Epoch 39/50\n",
            "750/750 [==============================] - 3s 4ms/step - loss: 0.1454 - accuracy: 0.9565 - val_loss: 0.1077 - val_accuracy: 0.9691\n",
            "Epoch 40/50\n",
            "750/750 [==============================] - 3s 3ms/step - loss: 0.1394 - accuracy: 0.9588 - val_loss: 0.1067 - val_accuracy: 0.9688\n",
            "Epoch 41/50\n",
            "750/750 [==============================] - 3s 3ms/step - loss: 0.1434 - accuracy: 0.9562 - val_loss: 0.1063 - val_accuracy: 0.9682\n",
            "Epoch 42/50\n",
            "750/750 [==============================] - 3s 5ms/step - loss: 0.1392 - accuracy: 0.9579 - val_loss: 0.1050 - val_accuracy: 0.9691\n",
            "Epoch 43/50\n",
            "750/750 [==============================] - 3s 4ms/step - loss: 0.1368 - accuracy: 0.9589 - val_loss: 0.1037 - val_accuracy: 0.9699\n",
            "Epoch 44/50\n",
            "750/750 [==============================] - 3s 3ms/step - loss: 0.1354 - accuracy: 0.9592 - val_loss: 0.1042 - val_accuracy: 0.9697\n",
            "Epoch 45/50\n",
            "750/750 [==============================] - 3s 3ms/step - loss: 0.1361 - accuracy: 0.9592 - val_loss: 0.1014 - val_accuracy: 0.9712\n",
            "Epoch 46/50\n",
            "750/750 [==============================] - 3s 4ms/step - loss: 0.1317 - accuracy: 0.9607 - val_loss: 0.1021 - val_accuracy: 0.9698\n",
            "Epoch 47/50\n",
            "750/750 [==============================] - 3s 4ms/step - loss: 0.1303 - accuracy: 0.9605 - val_loss: 0.0998 - val_accuracy: 0.9718\n",
            "Epoch 48/50\n",
            "750/750 [==============================] - 3s 3ms/step - loss: 0.1299 - accuracy: 0.9612 - val_loss: 0.0991 - val_accuracy: 0.9714\n",
            "Epoch 49/50\n",
            "750/750 [==============================] - 3s 3ms/step - loss: 0.1245 - accuracy: 0.9619 - val_loss: 0.1004 - val_accuracy: 0.9705\n",
            "Epoch 50/50\n",
            "750/750 [==============================] - 3s 4ms/step - loss: 0.1232 - accuracy: 0.9627 - val_loss: 0.0988 - val_accuracy: 0.9715\n"
          ]
        }
      ]
    },
    {
      "cell_type": "code",
      "metadata": {
        "id": "9QfbwIhAgBfX",
        "colab": {
          "base_uri": "https://localhost:8080/"
        },
        "outputId": "e17b2c95-89dd-4abb-ce0d-bf8c17f850d9"
      },
      "source": [
        "import matplotlib.pyplot as plt\n",
        "%matplotlib inline\n",
        "# list all data in training\n",
        "print(training.history.keys())"
      ],
      "execution_count": null,
      "outputs": [
        {
          "output_type": "stream",
          "name": "stdout",
          "text": [
            "dict_keys(['loss', 'accuracy', 'val_loss', 'val_accuracy'])\n"
          ]
        }
      ]
    },
    {
      "cell_type": "code",
      "source": [
        "# summarize training for accuracy\n",
        "plt.plot(training.history['accuracy'])\n",
        "plt.plot(training.history['val_accuracy'])\n",
        "plt.title('model accuracy')\n",
        "plt.ylabel('accuracy')\n",
        "plt.xlabel('epoch')\n",
        "plt.legend(['train', 'test'], loc='upper left')\n",
        "plt.show()"
      ],
      "metadata": {
        "colab": {
          "base_uri": "https://localhost:8080/",
          "height": 472
        },
        "id": "tNyjaPoxVAS3",
        "outputId": "ee496ecf-05ec-4efd-cd30-46c4a1232366"
      },
      "execution_count": null,
      "outputs": [
        {
          "output_type": "display_data",
          "data": {
            "text/plain": [
              "<Figure size 640x480 with 1 Axes>"
            ],
            "image/png": "[encoded data removed]"
          },
          "metadata": {}
        }
      ]
    },
    {
      "cell_type": "code",
      "source": [
        "\n",
        "# summarize traning for loss\n",
        "plt.plot(training.history['loss'])\n",
        "plt.plot(training.history['val_loss'])\n",
        "plt.title('model loss')\n",
        "plt.ylabel('loss')\n",
        "plt.xlabel('epoch')\n",
        "plt.legend(['train', 'test'], loc='upper left')\n",
        "plt.show()"
      ],
      "metadata": {
        "id": "wnLT895lFVyG",
        "colab": {
          "base_uri": "https://localhost:8080/",
          "height": 472
        },
        "outputId": "7042b379-100c-4aa9-e1e0-128678f4c09a"
      },
      "execution_count": null,
      "outputs": [
        {
          "output_type": "display_data",
          "data": {
            "text/plain": [
              "<Figure size 640x480 with 1 Axes>"
            ],
            "image/png": "[encoded data removed]"
          },
          "metadata": {}
        }
      ]
    },
    {
      "cell_type": "code",
      "source": [
        "model_2.weights[0]"
      ],
      "metadata": {
        "id": "DMqPRK3jGBCK",
        "colab": {
          "base_uri": "https://localhost:8080/"
        },
        "outputId": "cda169eb-e888-49a8-a7f5-94e52dbfdcfc"
      },
      "execution_count": null,
      "outputs": [
        {
          "output_type": "execute_result",
          "data": {
            "text/plain": [
              "<tf.Variable 'dense_layer/kernel:0' shape=(784, 128) dtype=float32, numpy=\n",
              "array([[ 0.0319238 ,  0.04395662,  0.07612621, ...,  0.07280781,\n",
              "         0.03507993, -0.07134579],\n",
              "       [-0.0239272 ,  0.01391836, -0.00862718, ..., -0.06898221,\n",
              "         0.05152161, -0.07288068],\n",
              "       [-0.07393809,  0.0522454 , -0.03446841, ...,  0.05129948,\n",
              "        -0.06298962,  0.00925953],\n",
              "       ...,\n",
              "       [ 0.03094095,  0.01470915,  0.04217649, ...,  0.07028345,\n",
              "         0.02525847,  0.04154064],\n",
              "       [ 0.07675406, -0.00808517,  0.02401389, ..., -0.07188737,\n",
              "        -0.04664961, -0.04071812],\n",
              "       [-0.02274901, -0.01179112, -0.06742503, ...,  0.07968321,\n",
              "        -0.07278746,  0.00078657]], dtype=float32)>"
            ]
          },
          "metadata": {},
          "execution_count": 41
        }
      ]
    },
    {
      "cell_type": "code",
      "metadata": {
        "id": "yT7LK87agBfq",
        "colab": {
          "base_uri": "https://localhost:8080/"
        },
        "outputId": "b0a0384f-d4ce-442a-c36b-3cd396bf3101"
      },
      "source": [
        "#evaluate the model\n",
        "test_loss, test_acc = model_2.evaluate(X_test, Y_test)\n",
        "print('Test accuracy:', test_acc)"
      ],
      "execution_count": null,
      "outputs": [
        {
          "output_type": "stream",
          "name": "stdout",
          "text": [
            "313/313 [==============================] - 1s 2ms/step - loss: 0.0936 - accuracy: 0.9724\n",
            "Test accuracy: 0.9724000096321106\n"
          ]
        }
      ]
    },
    {
      "cell_type": "code",
      "metadata": {
        "id": "jdOVuO0AgBf0",
        "colab": {
          "base_uri": "https://localhost:8080/"
        },
        "outputId": "790ad9af-a2e6-4c49-d250-062b04074461"
      },
      "source": [
        "model_2.summary()"
      ],
      "execution_count": null,
      "outputs": [
        {
          "output_type": "stream",
          "name": "stdout",
          "text": [
            "Model: \"sequential_3\"\n",
            "_________________________________________________________________\n",
            " Layer (type)                Output Shape              Param #   \n",
            "=================================================================\n",
            " dense_layer (Dense)         (None, 128)               100480    \n",
            "                                                                 \n",
            " dropout (Dropout)           (None, 128)               0         \n",
            "                                                                 \n",
            " dense_layer_2 (Dense)       (None, 128)               16512     \n",
            "                                                                 \n",
            " dropout_1 (Dropout)         (None, 128)               0         \n",
            "                                                                 \n",
            " dense_layer_3 (Dense)       (None, 10)                1290      \n",
            "                                                                 \n",
            "=================================================================\n",
            "Total params: 118282 (462.04 KB)\n",
            "Trainable params: 118282 (462.04 KB)\n",
            "Non-trainable params: 0 (0.00 Byte)\n",
            "_________________________________________________________________\n"
          ]
        }
      ]
    },
    {
      "cell_type": "code",
      "metadata": {
        "id": "oykr_QswgBf_",
        "colab": {
          "base_uri": "https://localhost:8080/"
        },
        "outputId": "a0e1cc92-cd24-4350-ab71-15af9d0642e8"
      },
      "source": [
        "model_2.weights"
      ],
      "execution_count": null,
      "outputs": [
        {
          "output_type": "execute_result",
          "data": {
            "text/plain": [
              "[<tf.Variable 'dense_layer/kernel:0' shape=(784, 128) dtype=float32, numpy=\n",
              " array([[ 0.0319238 ,  0.04395662,  0.07612621, ...,  0.07280781,\n",
              "          0.03507993, -0.07134579],\n",
              "        [-0.0239272 ,  0.01391836, -0.00862718, ..., -0.06898221,\n",
              "          0.05152161, -0.07288068],\n",
              "        [-0.07393809,  0.0522454 , -0.03446841, ...,  0.05129948,\n",
              "         -0.06298962,  0.00925953],\n",
              "        ...,\n",
              "        [ 0.03094095,  0.01470915,  0.04217649, ...,  0.07028345,\n",
              "          0.02525847,  0.04154064],\n",
              "        [ 0.07675406, -0.00808517,  0.02401389, ..., -0.07188737,\n",
              "         -0.04664961, -0.04071812],\n",
              "        [-0.02274901, -0.01179112, -0.06742503, ...,  0.07968321,\n",
              "         -0.07278746,  0.00078657]], dtype=float32)>,\n",
              " <tf.Variable 'dense_layer/bias:0' shape=(128,) dtype=float32, numpy=\n",
              " array([-7.18871225e-03, -1.71703659e-03, -2.80514341e-02, -8.99464190e-02,\n",
              "        -7.09073767e-02, -3.18429098e-02, -1.51737053e-02,  7.30816722e-02,\n",
              "         7.11820088e-03,  4.48900349e-02, -5.36573753e-02, -3.02335415e-02,\n",
              "        -1.92011874e-02, -7.21389651e-02,  7.20145032e-02,  1.13067232e-01,\n",
              "         4.18210402e-02, -1.80038795e-01,  7.26933405e-02, -1.20481551e-01,\n",
              "        -1.22649148e-01,  7.02160299e-02,  6.38281181e-03, -1.30423903e-01,\n",
              "        -1.28448801e-02,  8.79686773e-02,  8.99505913e-02,  7.63862729e-02,\n",
              "         7.33438283e-02, -7.06083840e-03,  3.41327935e-02, -2.84330677e-02,\n",
              "        -8.85256529e-02, -5.53832054e-02,  9.01823938e-02,  1.38723731e-01,\n",
              "        -2.92643439e-03, -1.80571973e-01, -7.69420937e-02,  1.02290355e-01,\n",
              "        -1.08813914e-02,  4.89744805e-02, -1.97983291e-02,  1.36768166e-02,\n",
              "        -1.21621981e-01,  2.95851137e-02,  2.51626614e-02,  5.66719957e-02,\n",
              "        -5.81761189e-02,  6.05047531e-02,  7.75634572e-02, -1.05371810e-01,\n",
              "         3.10245939e-02,  6.15250990e-02,  2.07843304e-01,  6.24384172e-02,\n",
              "         4.35390733e-02,  3.74087244e-02, -1.03603356e-01,  2.18460456e-01,\n",
              "         2.13703830e-02,  2.77800579e-02,  1.04836002e-01,  8.55110236e-04,\n",
              "         2.40366925e-02, -1.34849017e-02, -1.05447844e-02,  1.07800201e-01,\n",
              "         3.14764977e-02, -6.58048168e-02,  9.31351408e-02, -1.28292575e-01,\n",
              "        -1.38484193e-02, -1.06993048e-02,  1.26704618e-01, -1.27282888e-01,\n",
              "        -5.59812121e-04,  9.61011648e-03, -1.17628146e-02, -6.69501871e-02,\n",
              "        -9.26750526e-02, -2.39065364e-02,  2.76761707e-02,  6.59884652e-03,\n",
              "         3.57084461e-02,  4.11219373e-02,  3.72569188e-02,  9.09602386e-06,\n",
              "         8.26360658e-02,  2.28855852e-02, -8.89638159e-03,  9.75325406e-02,\n",
              "         6.69810101e-02,  1.81998461e-01,  5.94954081e-02, -4.41989377e-02,\n",
              "         5.86477816e-02, -5.59010543e-02,  2.28026211e-02, -8.23885426e-02,\n",
              "         4.27496881e-04, -4.56166081e-02,  5.31091094e-02, -6.33340999e-02,\n",
              "        -5.72228804e-02,  6.84126168e-02, -8.75413269e-02,  7.31443521e-03,\n",
              "        -3.77415307e-02,  2.55815815e-02, -2.78283972e-02, -4.11626287e-02,\n",
              "         2.33639013e-02,  2.55005360e-02,  3.90902087e-02,  4.79979999e-02,\n",
              "        -1.49168819e-01,  4.22057435e-02,  2.08711866e-02,  1.24053523e-01,\n",
              "         4.61198986e-02, -5.50637394e-02,  5.55928126e-02,  3.13231186e-03,\n",
              "         1.01573998e-02, -1.05947908e-02,  1.51105329e-01, -3.31594725e-03],\n",
              "       dtype=float32)>,\n",
              " <tf.Variable 'dense_layer_2/kernel:0' shape=(128, 128) dtype=float32, numpy=\n",
              " array([[ 0.06309532, -0.05493657, -0.02250879, ..., -0.17071372,\n",
              "         -0.07916657,  0.01803417],\n",
              "        [ 0.06542505, -0.09524472,  0.04056102, ..., -0.10257254,\n",
              "         -0.15549617, -0.09219079],\n",
              "        [-0.08887934, -0.01698651, -0.11253787, ..., -0.00499573,\n",
              "          0.09538099,  0.21045749],\n",
              "        ...,\n",
              "        [-0.12833218,  0.04968799,  0.03935213, ...,  0.10259309,\n",
              "          0.11315199, -0.14519168],\n",
              "        [-0.0066843 ,  0.0770653 , -0.03144587, ..., -0.10150149,\n",
              "          0.01102088,  0.02863772],\n",
              "        [ 0.00495684, -0.00320143,  0.15892531, ..., -0.13900377,\n",
              "         -0.03592632,  0.19258134]], dtype=float32)>,\n",
              " <tf.Variable 'dense_layer_2/bias:0' shape=(128,) dtype=float32, numpy=\n",
              " array([ 7.45057985e-02, -6.93860464e-03,  7.75571400e-03,  1.34352565e-01,\n",
              "        -7.85589740e-02,  7.21582174e-02,  1.12891831e-02, -5.29780313e-02,\n",
              "         2.67758444e-02,  6.91117644e-02,  1.76884905e-01,  7.35078566e-03,\n",
              "        -2.00946201e-02,  6.84434846e-02, -3.20794173e-02,  8.65733400e-02,\n",
              "         7.72327334e-02,  9.49508846e-02, -3.46181681e-03,  4.83285002e-02,\n",
              "         6.46079853e-02,  7.68986717e-02, -4.26152945e-02,  8.01774412e-02,\n",
              "         2.16339733e-02,  5.74369691e-02,  4.18629237e-02,  1.28130957e-01,\n",
              "         1.42691940e-01,  2.42077354e-02,  1.08733959e-02, -3.09005808e-02,\n",
              "        -5.39626144e-02, -4.60659154e-03,  4.10888046e-02,  9.72160921e-02,\n",
              "         1.62416562e-01,  3.99269015e-02,  2.71141119e-02, -5.95213845e-02,\n",
              "         4.93935682e-02,  2.35781725e-02,  9.77950990e-02,  1.86731815e-02,\n",
              "         1.30937442e-01,  1.74817387e-02,  3.33039872e-02,  4.27253619e-02,\n",
              "         7.58624300e-02,  8.26935619e-02,  7.13831484e-02,  7.15700686e-02,\n",
              "         1.32378787e-01,  4.87797856e-02,  3.21361609e-02,  8.33234042e-02,\n",
              "         1.57836097e-04,  3.19195427e-02,  1.01046175e-01, -8.66260752e-03,\n",
              "         5.65640144e-02, -3.47257257e-02,  8.09021443e-02,  1.20291170e-02,\n",
              "         4.70858552e-02,  1.06992967e-01,  7.88892992e-03,  5.02970293e-02,\n",
              "         1.42538333e-02,  1.12825558e-01,  5.82931750e-02, -6.89920969e-03,\n",
              "         2.87868083e-02,  4.91797067e-02,  1.23647176e-01,  3.99520621e-02,\n",
              "         7.05297142e-02, -4.81276326e-02,  5.57247810e-02,  8.73111039e-02,\n",
              "         7.46938512e-02,  5.16442135e-02,  5.06407134e-02,  3.85626741e-02,\n",
              "         2.78443992e-02,  9.73232463e-02,  2.77061723e-02, -1.27427224e-02,\n",
              "         5.87415532e-04,  3.76038104e-02,  9.05018747e-02,  1.54300541e-01,\n",
              "         6.77329078e-02,  7.20503479e-02,  1.03120543e-01,  1.09922737e-01,\n",
              "         4.58384259e-03,  7.77476504e-02,  2.54533850e-02, -6.15895912e-02,\n",
              "         9.04245377e-02,  1.65258020e-01,  4.08041365e-02,  6.14781901e-02,\n",
              "         3.36664394e-02,  6.03261986e-04,  6.54175356e-02,  7.61859193e-02,\n",
              "         3.53754610e-02,  1.02881886e-01,  4.30881381e-02,  2.37093773e-02,\n",
              "         5.74073866e-02,  1.14867680e-01,  3.46617424e-03, -2.76297033e-02,\n",
              "        -8.91386531e-03,  6.83827251e-02,  1.99246798e-02, -4.34202957e-04,\n",
              "         3.06666940e-02, -9.44930781e-03,  7.24575296e-02,  8.04283991e-02,\n",
              "         8.76685977e-02,  8.79720375e-02,  3.77903357e-02,  7.75231570e-02],\n",
              "       dtype=float32)>,\n",
              " <tf.Variable 'dense_layer_3/kernel:0' shape=(128, 10) dtype=float32, numpy=\n",
              " array([[ 0.01936033,  0.27768812, -0.22775778, ...,  0.3705045 ,\n",
              "         -0.19490136,  0.42493942],\n",
              "        [-0.17752333, -0.20436238,  0.08308713, ...,  0.11564641,\n",
              "         -0.09206031, -0.13326268],\n",
              "        [ 0.07250722,  0.04358438,  0.15926936, ...,  0.11873112,\n",
              "         -0.17585798,  0.22124496],\n",
              "        ...,\n",
              "        [ 0.31332225,  0.19297948,  0.13988587, ...,  0.1248543 ,\n",
              "          0.25318012,  0.19010867],\n",
              "        [ 0.20952944, -0.21686438,  0.25896496, ...,  0.05107247,\n",
              "          0.10839913, -0.016423  ],\n",
              "        [-0.2666387 ,  0.16595587, -0.14190228, ...,  0.17796306,\n",
              "          0.0782051 ,  0.21757634]], dtype=float32)>,\n",
              " <tf.Variable 'dense_layer_3/bias:0' shape=(10,) dtype=float32, numpy=\n",
              " array([-0.1166644 ,  0.14715782, -0.22546352, -0.08723579,  0.05213084,\n",
              "         0.06775194, -0.03199471, -0.16353668,  0.22879231,  0.12906033],\n",
              "       dtype=float32)>]"
            ]
          },
          "metadata": {},
          "execution_count": 44
        }
      ]
    },
    {
      "cell_type": "code",
      "metadata": {
        "id": "SPzS9VdLgBgK"
      },
      "source": [
        "model_2.get_config()"
      ],
      "execution_count": null,
      "outputs": []
    },
    {
      "cell_type": "markdown",
      "metadata": {
        "id": "pjps75cBuR1Z"
      },
      "source": [
        "###Improved Model 3: Changing the Optimizer - Adam"
      ]
    },
    {
      "cell_type": "code",
      "metadata": {
        "id": "WmXFwU5puZIF"
      },
      "source": [
        "#Most common type of model is a stack of layers\n",
        "model_3 = tf.keras.Sequential()\n",
        "N_hidden = 64\n",
        "\n",
        "# Adds a densely-connected layer with 64 units to the model:\n",
        "model_3.add(Dense(N_hidden, name='dense_layer', input_shape=(784,), activation = 'relu'))\n",
        "\n",
        "# Now the model will take as input arrays of shape (*, 784)# and output arrays of shape (*, 64)\n",
        "model_3.add(Dropout(0.3))\n",
        "\n",
        "# Adding another dense layer:\n",
        "model_3.add(Dense(N_hidden, name='dense_layer_2', activation='relu'))\n",
        "model_3.add(Dropout(0.3))\n",
        "\n",
        "model_3.add(Dense(10, name='dense_layer_3', activation = 'softmax'))\n"
      ],
      "execution_count": null,
      "outputs": []
    },
    {
      "cell_type": "code",
      "metadata": {
        "id": "71IzuyLBt3pQ"
      },
      "source": [
        "# Compiling the model.\n",
        "model_3.compile(optimizer='Adam',\n",
        "              loss='categorical_crossentropy',\n",
        "              metrics=['accuracy'])"
      ],
      "execution_count": null,
      "outputs": []
    },
    {
      "cell_type": "code",
      "metadata": {
        "id": "KfP4B4Sat3pW"
      },
      "source": [
        "# Training the model.\n",
        "training = model_3.fit(X_train, Y_train, batch_size=128, epochs=20, validation_split=0.2)\n"
      ],
      "execution_count": null,
      "outputs": []
    },
    {
      "cell_type": "code",
      "metadata": {
        "id": "uuwhbVkxj0iR"
      },
      "source": [
        "import matplotlib.pyplot as plt\n",
        "%matplotlib inline\n",
        "# list all data in training\n",
        "print(training.history.keys())\n",
        "# summarize training for accuracy\n",
        "plt.plot(training.history['accuracy'])\n",
        "plt.plot(training.history['val_accuracy'])\n",
        "plt.title('model accuracy')\n",
        "plt.ylabel('accuracy')\n",
        "plt.xlabel('epoch')\n",
        "plt.legend(['train', 'test'], loc='upper left')\n",
        "plt.show()\n",
        "# summarize traning for loss\n",
        "plt.plot(training.history['loss'])\n",
        "plt.plot(training.history['val_loss'])\n",
        "plt.title('model loss')\n",
        "plt.ylabel('loss')\n",
        "plt.xlabel('epoch')\n",
        "plt.legend(['train', 'test'], loc='upper left')\n",
        "plt.show()"
      ],
      "execution_count": null,
      "outputs": []
    },
    {
      "cell_type": "code",
      "metadata": {
        "id": "En35EsWnuHmC"
      },
      "source": [
        "#evaluate the model\n",
        "test_loss, test_acc = model_3.evaluate(X_test, Y_test)\n",
        "print('Test accuracy:', test_acc)"
      ],
      "execution_count": null,
      "outputs": []
    },
    {
      "cell_type": "code",
      "metadata": {
        "id": "Vn7mv0zhj0i2"
      },
      "source": [
        "model_3.summary"
      ],
      "execution_count": null,
      "outputs": []
    },
    {
      "cell_type": "code",
      "metadata": {
        "id": "P5eSv_K5j0jK"
      },
      "source": [
        "model_3.weights"
      ],
      "execution_count": null,
      "outputs": []
    },
    {
      "cell_type": "code",
      "metadata": {
        "id": "OK9ct5w-j0jm"
      },
      "source": [
        "model_3.get_config()"
      ],
      "execution_count": null,
      "outputs": []
    },
    {
      "cell_type": "markdown",
      "metadata": {
        "id": "mBnxm6kkzUYm"
      },
      "source": [
        "###Improved Model 4: Increasing the number of Hidden Layer neuron"
      ]
    },
    {
      "cell_type": "code",
      "metadata": {
        "id": "1tV9x2SNzUYq"
      },
      "source": [
        "#Most common type of model is a stack of layers\n",
        "model_4 = tf.keras.Sequential()\n",
        "N_hidden = 512\n",
        "# Adds a densely-connected layer with 64 units to the model:\n",
        "model_4.add(Dense(N_hidden, name='dense_layer', input_shape=(784,), activation = 'relu'))\n",
        "# Now the model will take as input arrays of shape (*, 784)# and output arrays of shape (*, 64)\n",
        "model_4.add(Dropout(0.3))\n",
        "# Adding another dense layer:\n",
        "model_4.add(Dense(N_hidden, name='dense_layer_2', activation='relu'))\n",
        "model_4.add(Dropout(0.3))\n",
        "# After the first layer, you don't need to specify\n",
        "# the size of the input anymore:\n",
        "# Add an output layer with 10 output units (10 different classes):\n",
        "model_4.add(Dense(10, name='dense_layer_3', activation = 'softmax'))\n"
      ],
      "execution_count": null,
      "outputs": []
    },
    {
      "cell_type": "code",
      "metadata": {
        "id": "ODypsK52zUY3"
      },
      "source": [
        "# Compiling the model.\n",
        "model_4.compile(optimizer='Adam',\n",
        "              loss='categorical_crossentropy',\n",
        "              metrics=['accuracy'])"
      ],
      "execution_count": null,
      "outputs": []
    },
    {
      "cell_type": "code",
      "metadata": {
        "id": "wcbJiQdpzUY_"
      },
      "source": [
        "# Training the model.\n",
        "training = model_4.fit(X_train, Y_train, batch_size=128, epochs=31, validation_split=0.2)\n"
      ],
      "execution_count": null,
      "outputs": []
    },
    {
      "cell_type": "code",
      "metadata": {
        "id": "wIywzScFzUZJ"
      },
      "source": [
        "#evaluate the model_4\n",
        "test_loss, test_acc = model_4.evaluate(X_test, Y_test)\n",
        "print('Test accuracy:', test_acc)"
      ],
      "execution_count": null,
      "outputs": []
    },
    {
      "cell_type": "code",
      "metadata": {
        "id": "L3tLcpsc3tKz"
      },
      "source": [
        "import matplotlib.pyplot as plt\n",
        "%matplotlib inline\n",
        "# list all data in training\n",
        "print(training.history.keys())\n",
        "# summarize training for accuracy\n",
        "plt.plot(training.history['accuracy'])\n",
        "plt.plot(training.history['val_accuracy'])\n",
        "plt.title('model accuracy')\n",
        "plt.ylabel('accuracy')\n",
        "plt.xlabel('epoch')\n",
        "plt.legend(['train', 'test'], loc='upper left')\n",
        "plt.show()\n",
        "# summarize traning for loss\n",
        "plt.plot(training.history['loss'])\n",
        "plt.plot(training.history['val_loss'])\n",
        "plt.title('model loss')\n",
        "plt.ylabel('loss')\n",
        "plt.xlabel('epoch')\n",
        "plt.legend(['train', 'test'], loc='upper left')\n",
        "plt.show()"
      ],
      "execution_count": null,
      "outputs": []
    },
    {
      "cell_type": "code",
      "metadata": {
        "id": "FmDi5zHOkQTK"
      },
      "source": [
        "model_4.summary"
      ],
      "execution_count": null,
      "outputs": []
    },
    {
      "cell_type": "code",
      "metadata": {
        "id": "ogODS59VkQTO"
      },
      "source": [
        "model_4.weights"
      ],
      "execution_count": null,
      "outputs": []
    },
    {
      "cell_type": "code",
      "metadata": {
        "id": "MnrRfeyJkQTS"
      },
      "source": [
        "model_4.get_config()"
      ],
      "execution_count": null,
      "outputs": []
    },
    {
      "cell_type": "markdown",
      "metadata": {
        "id": "AFbx6XHI0KyQ"
      },
      "source": [
        "###Improved Model 5: Manipulating the batch size"
      ]
    },
    {
      "cell_type": "code",
      "metadata": {
        "id": "WPaQm2XY0KyV"
      },
      "source": [
        "#Most common type of model is a stack of layers\n",
        "model_5 = tf.keras.Sequential()\n",
        "N_hidden = 512\n",
        "# Adds a densely-connected layer with 64 units to the model:\n",
        "model_5.add(Dense(N_hidden, name='dense_layer', input_shape=(784,), activation = 'relu'))\n",
        "# Now the model will take as input arrays of shape (*, 784)# and output arrays of shape (*, 64)\n",
        "model_5.add(Dropout(0.3))\n",
        "# Adding another dense layer:\n",
        "model_5.add(Dense(N_hidden, name='dense_layer_2', activation='relu'))\n",
        "model_5.add(Dropout(0.3))\n",
        "# After the first layer, you don't need to specify\n",
        "# the size of the input anymore:\n",
        "# Add an output layer with 10 output units (10 different classes):\n",
        "model_5.add(Dense(10, name='dense_layer_3', activation = 'softmax'))\n"
      ],
      "execution_count": null,
      "outputs": []
    },
    {
      "cell_type": "code",
      "metadata": {
        "id": "UWFjgHFj0Kyg"
      },
      "source": [
        "# Compiling the model.\n",
        "model_5.compile(optimizer='Adam',\n",
        "              loss='categorical_crossentropy',\n",
        "              metrics=['accuracy'])"
      ],
      "execution_count": null,
      "outputs": []
    },
    {
      "cell_type": "code",
      "metadata": {
        "id": "opXV9TbQ0Kyl"
      },
      "source": [
        "# Training the model.\n",
        "training = model_5.fit(X_train, Y_train, batch_size=64, epochs=30, validation_split=0.2)\n"
      ],
      "execution_count": null,
      "outputs": []
    },
    {
      "cell_type": "code",
      "metadata": {
        "id": "UHMf1HAskp9n"
      },
      "source": [
        "import matplotlib.pyplot as plt\n",
        "%matplotlib inline\n",
        "# list all data in training\n",
        "print(training.history.keys())\n",
        "# summarize training for accuracy\n",
        "plt.plot(training.history['accuracy'])\n",
        "plt.plot(training.history['val_accuracy'])\n",
        "plt.title('model accuracy')\n",
        "plt.ylabel('accuracy')\n",
        "plt.xlabel('epoch')\n",
        "plt.legend(['train', 'test'], loc='upper left')\n",
        "plt.show()\n",
        "# summarize traning for loss\n",
        "plt.plot(training.history['loss'])\n",
        "plt.plot(training.history['val_loss'])\n",
        "plt.title('model loss')\n",
        "plt.ylabel('loss')\n",
        "plt.xlabel('epoch')\n",
        "plt.legend(['train', 'test'], loc='upper left')\n",
        "plt.show()"
      ],
      "execution_count": null,
      "outputs": []
    },
    {
      "cell_type": "code",
      "metadata": {
        "id": "e4kmSKEn0Kyv"
      },
      "source": [
        "#evaluate the model\n",
        "test_loss, test_acc = model_5.evaluate(X_test, Y_test)\n",
        "print('Test accuracy:', test_acc)"
      ],
      "execution_count": null,
      "outputs": []
    },
    {
      "cell_type": "code",
      "metadata": {
        "id": "LVr1ZMvnkp92"
      },
      "source": [
        "model_5.summary"
      ],
      "execution_count": null,
      "outputs": []
    },
    {
      "cell_type": "code",
      "metadata": {
        "id": "j76rvRmxkp-C"
      },
      "source": [
        "model_5.weights"
      ],
      "execution_count": null,
      "outputs": []
    },
    {
      "cell_type": "code",
      "metadata": {
        "id": "0cV3gfkLkp-M"
      },
      "source": [
        "model_5.get_config()"
      ],
      "execution_count": null,
      "outputs": []
    },
    {
      "cell_type": "markdown",
      "metadata": {
        "id": "jX8DXi1jiFYS"
      },
      "source": [
        "###Improved Model 6: Adding Another Hidden Layer to the Model"
      ]
    },
    {
      "cell_type": "code",
      "metadata": {
        "id": "5Ad_vKSRiNq0"
      },
      "source": [
        "import tensorflow as tf\n",
        "\n",
        "#In Keras, layers are assembled to build models\n",
        "from tensorflow.keras.layers import Dense\n",
        "from tensorflow.keras.layers import Dropout\n",
        "\n",
        "#Most common type of model is a stack of layers\n",
        "model_6 = tf.keras.Sequential()\n",
        "N_hidden = 512\n",
        "\n",
        "# Adds a densely-connected layer with 64 units to the model:\n",
        "model_6.add(Dense(N_hidden, name='dense_layer', input_shape=(784,), activation = 'relu'))\n",
        "# Now the model will take as input arrays of shape (*, 784)# and output arrays of shape (*, 64)\n",
        "model_6.add(Dropout(0.3))\n",
        "\n",
        "# Adding another dense layer:\n",
        "model_6.add(Dense(N_hidden, name='dense_layer_2', activation='relu'))\n",
        "model_6.add(Dropout(0.3))\n",
        "\n",
        "# Adding another dense layer:\n",
        "model_6.add(Dense(N_hidden, name='dense_layer_3', activation='relu'))\n",
        "model_6.add(Dropout(0.3))\n",
        "\n",
        "# Add an output layer with 10 output units (10 different classes):\n",
        "model_6.add(Dense(10, name='dense_layer_4', activation = 'softmax'))\n"
      ],
      "execution_count": null,
      "outputs": []
    },
    {
      "cell_type": "code",
      "metadata": {
        "id": "OgTz-7_Ai03r"
      },
      "source": [
        "# Compiling the model.\n",
        "model_6.compile(optimizer='Adam',\n",
        "              loss='categorical_crossentropy',\n",
        "              metrics=['accuracy'])"
      ],
      "execution_count": null,
      "outputs": []
    },
    {
      "cell_type": "code",
      "metadata": {
        "id": "8wlsmatji03-"
      },
      "source": [
        "# Training the model.\n",
        "training = model_6.fit(X_train, Y_train, batch_size=64, epochs=30, validation_split=0.2)"
      ],
      "execution_count": null,
      "outputs": []
    },
    {
      "cell_type": "code",
      "metadata": {
        "id": "we2ZBwRui04X"
      },
      "source": [
        "import matplotlib.pyplot as plt\n",
        "%matplotlib inline\n",
        "# list all data in training\n",
        "print(training.history.keys())\n",
        "# summarize training for accuracy\n",
        "plt.plot(training.history['accuracy'])\n",
        "plt.plot(training.history['val_accuracy'])\n",
        "plt.title('model accuracy')\n",
        "plt.ylabel('accuracy')\n",
        "plt.xlabel('epoch')\n",
        "plt.legend(['train', 'test'], loc='upper left')\n",
        "plt.show()\n",
        "# summarize traning for loss\n",
        "plt.plot(training.history['loss'])\n",
        "plt.plot(training.history['val_loss'])\n",
        "plt.title('model loss')\n",
        "plt.ylabel('loss')\n",
        "plt.xlabel('epoch')\n",
        "plt.legend(['train', 'test'], loc='upper left')\n",
        "plt.show()"
      ],
      "execution_count": null,
      "outputs": []
    },
    {
      "cell_type": "code",
      "metadata": {
        "id": "rW_yiiBci04l"
      },
      "source": [
        "#evaluate the model\n",
        "test_loss, test_acc = model_6.evaluate(X_test, Y_test)\n",
        "print('Test accuracy:', test_acc)"
      ],
      "execution_count": null,
      "outputs": []
    },
    {
      "cell_type": "code",
      "metadata": {
        "id": "-st6PFxmi04q"
      },
      "source": [
        "model_6.summary"
      ],
      "execution_count": null,
      "outputs": []
    },
    {
      "cell_type": "code",
      "metadata": {
        "id": "VVS-TuqDi04v"
      },
      "source": [
        "model_6.weights"
      ],
      "execution_count": null,
      "outputs": []
    },
    {
      "cell_type": "code",
      "metadata": {
        "id": "V5lg_PNsi041"
      },
      "source": [
        "model_6.get_config()"
      ],
      "execution_count": null,
      "outputs": []
    }
  ]
}